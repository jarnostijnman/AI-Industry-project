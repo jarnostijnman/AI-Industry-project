{
 "cells": [
  {
   "cell_type": "markdown",
   "metadata": {
    "id": "WJZteD10A1eR"
   },
   "source": [
    "# Prepare your own data\n",
    "While the SDV offers many publicly available demo datasets, you may want to use one of your own, private datasets for synthetic data creation.\n",
    "\n",
    "In this notebook, we'll cover the basics of how you can prepare your data for the SDV. This includes loading your data and writing a metadata description of the tables.\n",
    "\n",
    "_Last Edit: Oct 2, 2024_"
   ]
  },
  {
   "cell_type": "markdown",
   "metadata": {
    "id": "lvY6xT94A3Wo"
   },
   "source": [
    "# 0. Installation\n",
    "\n",
    "Install the SDV library."
   ]
  },
  {
   "cell_type": "code",
   "execution_count": 144,
   "metadata": {
    "colab": {
     "base_uri": "https://localhost:8080/"
    },
    "collapsed": true,
    "id": "lW0ntc-HAzPS",
    "outputId": "a333c723-94fb-4339-ec59-66d940803892"
   },
   "outputs": [],
   "source": [
    "# %pip install sdv"
   ]
  },
  {
   "cell_type": "markdown",
   "metadata": {},
   "source": [
    "# Imports"
   ]
  },
  {
   "cell_type": "code",
   "execution_count": 145,
   "metadata": {},
   "outputs": [],
   "source": [
    "import os, datetime\n",
    "import pandas as pd\n",
    "from sdv.metadata import Metadata\n",
    "from sdv.single_table import CTGANSynthesizer\n",
    "from sdv.single_table import GaussianCopulaSynthesizer\n",
    "from sdv.single_table import CopulaGANSynthesizer\n",
    "from rdt.transformers.categorical import OrderedUniformEncoder\n",
    "from rdt.transformers.datetime import OptimizedTimestampEncoder\n",
    "from rdt.transformers.numerical import GaussianNormalizer\n",
    "from sdmetrics.visualization import get_column_plot\n",
    "from sdv.sampling import Condition\n",
    "import numpy as np\n",
    "\n"
   ]
  },
  {
   "cell_type": "markdown",
   "metadata": {
    "id": "8FAyiL_6BCAb"
   },
   "source": [
    "# 1. Loading the data"
   ]
  },
  {
   "cell_type": "code",
   "execution_count": 146,
   "metadata": {},
   "outputs": [
    {
     "name": "stdout",
     "output_type": "stream",
     "text": [
      "<bound method NDFrame.head of           ID Candidate State      Age Range   Sex Protected category  \\\n",
      "0      71470           Hired  31 - 35 years  Male                NaN   \n",
      "1      71470           Hired  31 - 35 years  Male                NaN   \n",
      "2      71470           Hired  31 - 35 years  Male                NaN   \n",
      "3      71470           Hired  31 - 35 years  Male                NaN   \n",
      "4      71470           Hired  31 - 35 years  Male                NaN   \n",
      "...      ...             ...            ...   ...                ...   \n",
      "21372  79993           Hired  26 - 30 years  Male                NaN   \n",
      "21373  79993           Hired  26 - 30 years  Male                NaN   \n",
      "21374  79993           Hired  26 - 30 years  Male                NaN   \n",
      "21375  79993           Hired  26 - 30 years  Male                NaN   \n",
      "21376  79993           Hired  26 - 30 years  Male                NaN   \n",
      "\n",
      "                                                     TAG  \\\n",
      "0      AUTOSAR, CAN, C, C++, MATLAB/SIMULINK, VECTOR/...   \n",
      "1      AUTOSAR, CAN, C, C++, MATLAB/SIMULINK, VECTOR/...   \n",
      "2      AUTOSAR, CAN, C, C++, MATLAB/SIMULINK, VECTOR/...   \n",
      "3      AUTOSAR, CAN, C, C++, MATLAB/SIMULINK, VECTOR/...   \n",
      "4      AUTOSAR, CAN, C, C++, MATLAB/SIMULINK, VECTOR/...   \n",
      "...                                                  ...   \n",
      "21372                                                  X   \n",
      "21373                                                  X   \n",
      "21374                                                  X   \n",
      "21375                                                  X   \n",
      "21376                                                  X   \n",
      "\n",
      "                                Study area       Study Title Years Experience  \\\n",
      "0      Automation/Mechatronics Engineering  Five-year degree            [1-3]   \n",
      "1      Automation/Mechatronics Engineering  Five-year degree            [1-3]   \n",
      "2      Automation/Mechatronics Engineering  Five-year degree            [1-3]   \n",
      "3      Automation/Mechatronics Engineering  Five-year degree            [1-3]   \n",
      "4      Automation/Mechatronics Engineering  Five-year degree            [1-3]   \n",
      "...                                    ...               ...              ...   \n",
      "21372                 chemical engineering  Five-year degree              [0]   \n",
      "21373                 chemical engineering  Five-year degree              [0]   \n",
      "21374                 chemical engineering  Five-year degree              [0]   \n",
      "21375                 chemical engineering  Five-year degree              [0]   \n",
      "21376                 chemical engineering  Five-year degree              [0]   \n",
      "\n",
      "           Sector  ... Technical Skills  Standing/Position  Comunication  \\\n",
      "0      Automotive  ...              NaN                NaN           NaN   \n",
      "1      Automotive  ...              NaN                NaN           NaN   \n",
      "2      Automotive  ...              NaN                NaN           NaN   \n",
      "3      Automotive  ...              2.0                2.0           1.0   \n",
      "4      Automotive  ...              NaN                NaN           NaN   \n",
      "...           ...  ...              ...                ...           ...   \n",
      "21372      Others  ...              2.0                2.0           3.0   \n",
      "21373      Others  ...              NaN                NaN           NaN   \n",
      "21374      Others  ...              NaN                NaN           NaN   \n",
      "21375      Others  ...              2.0                2.0           2.0   \n",
      "21376      Others  ...              NaN                NaN           NaN   \n",
      "\n",
      "      Maturity Dynamism Mobility English              City Province    Region  \n",
      "0          NaN      NaN      NaN     NaN             TURIN    Turin  Piedmont  \n",
      "1          NaN      NaN      NaN     NaN             TURIN    Turin  Piedmont  \n",
      "2          NaN      NaN      NaN     NaN             TURIN    Turin  Piedmont  \n",
      "3          2.0      2.0      3.0     3.0             TURIN    Turin  Piedmont  \n",
      "4          NaN      NaN      NaN     NaN             TURIN    Turin  Piedmont  \n",
      "...        ...      ...      ...     ...               ...      ...       ...  \n",
      "21372      3.0      3.0      3.0     3.0  TORRE ANNUNZIATA   Naples  Campania  \n",
      "21373      NaN      NaN      NaN     NaN  TORRE ANNUNZIATA   Naples  Campania  \n",
      "21374      NaN      NaN      NaN     NaN  TORRE ANNUNZIATA   Naples  Campania  \n",
      "21375      2.0      2.0      3.0     3.0  TORRE ANNUNZIATA   Naples  Campania  \n",
      "21376      NaN      NaN      NaN     NaN  TORRE ANNUNZIATA   Naples  Campania  \n",
      "\n",
      "[21235 rows x 41 columns]>\n"
     ]
    }
   ],
   "source": [
    "# File path to the Excel file\n",
    "file_path = 'Dataset_2.0_Akkodis.xlsx'\n",
    "\n",
    "# Import the dataset into a pandas DataFrame\n",
    "data = pd.read_excel(file_path)\n",
    "\n",
    "data.columns = data.columns.str.strip()\n",
    "data['Overall'] = data['Overall'].str.lstrip('~ ') # Makes entries consistent\n",
    "data[['City', 'Province', 'Region']] = data['Residence'].str.extract(r'^(.*?) » (.*?) ~ (.*)$')\n",
    "# data['Year of insertion'] = data['Year of insertion'].str.strip('[]')\n",
    "# data['Year of Recruitment'] = data['Year of Recruitment'].str.strip('[]')\n",
    "data['Year of insertion'] = pd.to_numeric(data['Year of insertion'].str.strip('[]'), errors='coerce').astype('Int64')\n",
    "data['Year of Recruitment'] = pd.to_numeric(data['Year of Recruitment'].str.strip('[]'), errors='coerce').astype('Int64')\n",
    "data = data.drop(columns=['Residence'])\n",
    "undesired_values = ['????', '-', '.']\n",
    "data = data[~data['Last Role'].isin(undesired_values)]\n",
    "\n",
    "print(data.head)\n"
   ]
  },
  {
   "cell_type": "code",
   "execution_count": 147,
   "metadata": {},
   "outputs": [
    {
     "name": "stdout",
     "output_type": "stream",
     "text": [
      "<bound method NDFrame.head of 0        2021\n",
      "1        2021\n",
      "2        2021\n",
      "3        2021\n",
      "4        2021\n",
      "         ... \n",
      "21372    2023\n",
      "21373    2023\n",
      "21374    2023\n",
      "21375    2023\n",
      "21376    2023\n",
      "Name: Year of Recruitment, Length: 21235, dtype: Int64>\n"
     ]
    }
   ],
   "source": [
    "print(data['Year of Recruitment'].head)"
   ]
  },
  {
   "cell_type": "markdown",
   "metadata": {},
   "source": [
    "## Data Cleaning"
   ]
  },
  {
   "cell_type": "markdown",
   "metadata": {},
   "source": [
    "Some IDs are inconsistent, meaning a new entry was made with another contextual variable (Age Range, Sex or Region for instance). Although it could mean that the same candidate has applied again where the contextual variable has changed, it makes sequential analysis a lot harder. Therefore, we will remove the inconsistent rows."
   ]
  },
  {
   "cell_type": "code",
   "execution_count": 148,
   "metadata": {},
   "outputs": [],
   "source": [
    "# Columns to exclude (because these will not be contextual inputs)\n",
    "exclude_columns = [\n",
    "'ID',\n",
    "'event_type__val',\n",
    "'event_feedback',\n",
    "'linked_search__key',\n",
    "'Overall',\n",
    "'Technical Skills',\t\n",
    "'Standing/Position',\n",
    "'Comunication',\t\n",
    "'Maturity',\t\n",
    "'Dynamism',\t\n",
    "'Mobility',\t\n",
    "'English'\n",
    "]\n",
    "\n",
    "# Get columns as a list, excluding specific ones\n",
    "filtered_columns = [col for col in data.columns if col not in exclude_columns]\n",
    "\n",
    "# List of columns to check for inconsistencies\n",
    "columns_to_check = filtered_columns\n",
    "\n",
    "# Check for duplicate IDs where other columns differ\n",
    "# Group by 'ID' and check for unique values across the specified columns\n",
    "id_inconsistencies = data.groupby('ID')[columns_to_check].nunique()\n",
    "\n",
    "# Filter for IDs with inconsistencies (more than one unique value in any critical column)\n",
    "inconsistent_ids = id_inconsistencies[id_inconsistencies.gt(1).any(axis=1)]\n",
    "\n",
    "# Sort the dataset by 'ID' and reset the index to ensure sequential appearance\n",
    "data_sorted = data.sort_values(by=['ID']).reset_index()\n",
    "\n",
    "# Identify rows belonging to inconsistent IDs\n",
    "inconsistent_rows = data_sorted['ID'].isin(inconsistent_ids.index)\n",
    "\n",
    "# Create a mask to keep only the first group of rows for each inconsistent ID\n",
    "data = data_sorted[~inconsistent_rows | (data_sorted['ID'] != data_sorted['ID'].shift())]\n",
    "\n",
    "# Drop the index reset during processing\n",
    "data = data.drop(columns='index')\n",
    "\n",
    "data = data.reset_index(drop=True)\n"
   ]
  },
  {
   "cell_type": "code",
   "execution_count": 149,
   "metadata": {},
   "outputs": [
    {
     "name": "stdout",
     "output_type": "stream",
     "text": [
      "<bound method NDFrame.head of           ID Candidate State      Age Range     Sex Protected category  TAG  \\\n",
      "0         15        Imported  26 - 30 years    Male                NaN  NaN   \n",
      "1         36        Imported  20 - 25 years    Male                NaN  NaN   \n",
      "2         39        Imported  26 - 30 years    Male                NaN  NaN   \n",
      "3         41   First contact  31 - 35 years    Male                NaN  NaN   \n",
      "4         47   First contact  36 - 40 years    Male                NaN  NaN   \n",
      "...      ...             ...            ...     ...                ...  ...   \n",
      "18618  81626        Imported  26 - 30 years    Male                NaN  NaN   \n",
      "18619  81627   First contact  26 - 30 years    Male                NaN  NaN   \n",
      "18620  81630    In selection  20 - 25 years    Male                NaN  NaN   \n",
      "18621  81636        Imported  20 - 25 years  Female                NaN  NaN   \n",
      "18622  81637        Imported  26 - 30 years  Female                NaN  NaN   \n",
      "\n",
      "                                            Study area  \\\n",
      "0                                 computer engineering   \n",
      "1      Aeronautical/Aerospace/Astronautics Engineering   \n",
      "2                  Automation/Mechatronics Engineering   \n",
      "3                               industrial engineering   \n",
      "4                               Electrical Engineering   \n",
      "...                                                ...   \n",
      "18618                             computer engineering   \n",
      "18619                             computer engineering   \n",
      "18620                                      Informatics   \n",
      "18621                          Information Engineering   \n",
      "18622                           Biomedical Engineering   \n",
      "\n",
      "                  Study Title Years Experience  Sector  ... Technical Skills  \\\n",
      "0           Three-year degree              [0]     NaN  ...              NaN   \n",
      "1           Three-year degree              [0]     NaN  ...              NaN   \n",
      "2            Five-year degree              [0]     NaN  ...              NaN   \n",
      "3            Five-year degree            [1-3]  Others  ...              NaN   \n",
      "4            Five-year degree            [+10]  Energy  ...              NaN   \n",
      "...                       ...              ...     ...  ...              ...   \n",
      "18618       Three-year degree              [0]     NaN  ...              NaN   \n",
      "18619        Five-year degree            [1-3]  Others  ...              NaN   \n",
      "18620  High school graduation              [0]  Others  ...              2.0   \n",
      "18621       Three-year degree              [0]     NaN  ...              NaN   \n",
      "18622        Five-year degree              [0]     NaN  ...              NaN   \n",
      "\n",
      "       Standing/Position  Comunication Maturity Dynamism Mobility English  \\\n",
      "0                    NaN           NaN      NaN      NaN      NaN     NaN   \n",
      "1                    NaN           NaN      NaN      NaN      NaN     NaN   \n",
      "2                    NaN           NaN      NaN      NaN      NaN     NaN   \n",
      "3                    NaN           NaN      NaN      NaN      NaN     NaN   \n",
      "4                    NaN           NaN      NaN      NaN      NaN     NaN   \n",
      "...                  ...           ...      ...      ...      ...     ...   \n",
      "18618                NaN           NaN      NaN      NaN      NaN     NaN   \n",
      "18619                NaN           NaN      NaN      NaN      NaN     NaN   \n",
      "18620                1.0           1.0      1.0      1.0      1.0     1.0   \n",
      "18621                NaN           NaN      NaN      NaN      NaN     NaN   \n",
      "18622                NaN           NaN      NaN      NaN      NaN     NaN   \n",
      "\n",
      "               City     Province      Region  \n",
      "0         SQUINZANO        Lecce      Puglia  \n",
      "1       ALESSANDRIA  Alessandria    Piedmont  \n",
      "2              BARI         Bari      Puglia  \n",
      "3      PERCH DOSIMO      Cremona    Lombardy  \n",
      "4           GERMANY      (STATE)  (OVERSEAS)  \n",
      "...             ...          ...         ...  \n",
      "18618    CHIAVERANO        Turin    Piedmont  \n",
      "18619      TERZIGNO       Naples    Campania  \n",
      "18620          ROME         Rome       Lazio  \n",
      "18621         TURIN        Turin    Piedmont  \n",
      "18622        LICATA    Agrigento      Sicily  \n",
      "\n",
      "[18623 rows x 41 columns]>\n"
     ]
    }
   ],
   "source": [
    "print(data.head)"
   ]
  },
  {
   "cell_type": "code",
   "execution_count": 150,
   "metadata": {},
   "outputs": [],
   "source": [
    "# data.to_csv('data_original_preprocessed.csv', index=False)\n",
    "# data.to_excel('data_original_preprocessed.xlsx', index=False)"
   ]
  },
  {
   "cell_type": "code",
   "execution_count": 151,
   "metadata": {},
   "outputs": [
    {
     "name": "stdout",
     "output_type": "stream",
     "text": [
      "['Candidate State', 'Age Range', 'Sex', 'Protected category', 'TAG', 'Study area', 'Study Title', 'Years Experience', 'Sector', 'Last Role', 'Year of insertion', 'Year of Recruitment', 'Recruitment Request', 'Assumption Headquarters', 'Job Family Hiring', 'Job Title Hiring', 'Job Description', 'Candidate Profile', 'Years Experience.1', 'Minimum Ral', 'Ral Maximum', 'Study Level', 'Study Area.1', 'Akkodis headquarters', 'Current Ral', 'Expected Ral', 'City', 'Province', 'Region']\n"
     ]
    }
   ],
   "source": [
    "print(filtered_columns)"
   ]
  },
  {
   "cell_type": "code",
   "execution_count": 152,
   "metadata": {},
   "outputs": [
    {
     "data": {
      "text/plain": [
       "16804"
      ]
     },
     "execution_count": 152,
     "metadata": {},
     "output_type": "execute_result"
    }
   ],
   "source": [
    "percentages = data.drop_duplicates(subset='ID')['Year of insertion'].value_counts(normalize=True) * 100\n",
    "percentages\n",
    "\n",
    "missing = data['Year of Recruitment'].isna().sum()\n",
    "missing"
   ]
  },
  {
   "cell_type": "markdown",
   "metadata": {},
   "source": [
    "## Creating the dataframes"
   ]
  },
  {
   "cell_type": "code",
   "execution_count": 153,
   "metadata": {},
   "outputs": [
    {
     "name": "stdout",
     "output_type": "stream",
     "text": [
      "['ID', 'Candidate State', 'Age Range', 'Sex', 'Protected category', 'Study area', 'Study Title', 'Years Experience', 'Sector', 'Year of insertion', 'Year of Recruitment', 'Assumption Headquarters', 'Job Family Hiring', 'Job Title Hiring', 'Years Experience.1', 'Minimum Ral', 'Ral Maximum', 'Study Level', 'Study Area.1', 'Akkodis headquarters', 'Current Ral', 'Expected Ral', 'City', 'Province', 'Region']\n"
     ]
    }
   ],
   "source": [
    "candidate_columns = filtered_columns.copy()\n",
    "candidate_columns.insert(0, \"ID\")\n",
    "candidate_columns.remove(\"TAG\")\n",
    "candidate_columns.remove(\"Last Role\")\n",
    "candidate_columns.remove(\"Recruitment Request\")\n",
    "candidate_columns.remove(\"Job Description\")\n",
    "candidate_columns.remove(\"Candidate Profile\")\n",
    "\n",
    "\n",
    "print(candidate_columns)\n"
   ]
  },
  {
   "cell_type": "code",
   "execution_count": 154,
   "metadata": {},
   "outputs": [],
   "source": [
    "\n",
    "# Create candidates dataframe\n",
    "candidates = data[candidate_columns].drop_duplicates(subset='ID')\n",
    "candidates = candidates.reset_index(drop=True)\n",
    "\n",
    "# Columns to replace values\n",
    "columns_to_replace = ['Minimum Ral', 'Ral Maximum', 'Current Ral', 'Expected Ral']\n",
    "\n",
    "# Replace 'Not Avail.' and 'Not Available' with NaN\n",
    "candidates[columns_to_replace] = candidates[columns_to_replace].replace(['Not Avail.', 'Not available'], np.nan)\n",
    "\n",
    "\n"
   ]
  },
  {
   "cell_type": "code",
   "execution_count": 155,
   "metadata": {},
   "outputs": [],
   "source": [
    "# candidates.to_csv('candidates_original_preprocessed.csv', index=False)\n",
    "# candidates.to_excel('candidates_original_preprocessed.xlsx', index=False)"
   ]
  },
  {
   "cell_type": "markdown",
   "metadata": {
    "id": "v63wmyVvBmtE"
   },
   "source": [
    "# 2. Writing a Metadata Description\n",
    "The SDV requires that you provide a description of your data, also known as **metadata**.\n",
    "\n",
    "The metadata describes the types of data that are available in every column."
   ]
  },
  {
   "cell_type": "code",
   "execution_count": 156,
   "metadata": {
    "id": "1mShSXMxBnug"
   },
   "outputs": [],
   "source": [
    "metadata = Metadata.detect_from_dataframe(data=candidates)\n",
    "\n",
    "\n",
    "# Set column ID as primary id stdtype\n",
    "metadata.update_column( \n",
    "    column_name='ID',\n",
    "    sdtype='id',\n",
    "    regex_format='[1-9]{1,9}')\n",
    "\n",
    "# Set column Candidate State to categorical\n",
    "metadata.update_column(\n",
    "    column_name='Candidate State',\n",
    "    sdtype='categorical')\n",
    "\n",
    "metadata.update_column( \n",
    "    column_name='Year of insertion',\n",
    "    sdtype='numerical',\n",
    "    computer_representation='Int64'\n",
    "    )\n",
    "\n",
    "metadata.update_column( \n",
    "    column_name='Year of Recruitment',\n",
    "    sdtype='numerical',\n",
    "    computer_representation='Int64'\n",
    "    )\n"
   ]
  },
  {
   "cell_type": "markdown",
   "metadata": {
    "id": "HSOO98YRBr33"
   },
   "source": [
    "We can inspect the auto detected metadata:"
   ]
  },
  {
   "cell_type": "code",
   "execution_count": 157,
   "metadata": {
    "colab": {
     "base_uri": "https://localhost:8080/",
     "height": 602
    },
    "id": "eN_4J_wPBqh5",
    "outputId": "f9ff6dd4-d5d7-4dc2-a722-11efeaa7d86f"
   },
   "outputs": [
    {
     "name": "stdout",
     "output_type": "stream",
     "text": [
      "Auto detected data:\n",
      "\n"
     ]
    },
    {
     "data": {
      "image/svg+xml": [
       "<?xml version=\"1.0\" encoding=\"UTF-8\" standalone=\"no\"?>\n",
       "<!DOCTYPE svg PUBLIC \"-//W3C//DTD SVG 1.1//EN\"\n",
       " \"http://www.w3.org/Graphics/SVG/1.1/DTD/svg11.dtd\">\n",
       "<!-- Generated by graphviz version 12.2.1 (20241206.2353)\n",
       " -->\n",
       "<!-- Title: Metadata Pages: 1 -->\n",
       "<svg width=\"236pt\" height=\"479pt\"\n",
       " viewBox=\"0.00 0.00 236.25 478.50\" xmlns=\"http://www.w3.org/2000/svg\" xmlns:xlink=\"http://www.w3.org/1999/xlink\">\n",
       "<g id=\"graph0\" class=\"graph\" transform=\"scale(1 1) rotate(0) translate(4 474.5)\">\n",
       "<title>Metadata</title>\n",
       "<polygon fill=\"white\" stroke=\"none\" points=\"-4,4 -4,-474.5 232.25,-474.5 232.25,4 -4,4\"/>\n",
       "<!-- table -->\n",
       "<g id=\"node1\" class=\"node\">\n",
       "<title>table</title>\n",
       "<path fill=\"#ffec8b\" stroke=\"black\" d=\"M12,-0.5C12,-0.5 216.25,-0.5 216.25,-0.5 222.25,-0.5 228.25,-6.5 228.25,-12.5 228.25,-12.5 228.25,-458 228.25,-458 228.25,-464 222.25,-470 216.25,-470 216.25,-470 12,-470 12,-470 6,-470 0,-464 0,-458 0,-458 0,-12.5 0,-12.5 0,-6.5 6,-0.5 12,-0.5\"/>\n",
       "<text text-anchor=\"middle\" x=\"114.12\" y=\"-452.7\" font-family=\"Times,serif\" font-size=\"14.00\">table</text>\n",
       "<polyline fill=\"none\" stroke=\"black\" points=\"0,-445.5 228.25,-445.5\"/>\n",
       "<text text-anchor=\"start\" x=\"8\" y=\"-428.2\" font-family=\"Times,serif\" font-size=\"14.00\">ID : id</text>\n",
       "<text text-anchor=\"start\" x=\"8\" y=\"-411.7\" font-family=\"Times,serif\" font-size=\"14.00\">Candidate State : categorical</text>\n",
       "<text text-anchor=\"start\" x=\"8\" y=\"-395.2\" font-family=\"Times,serif\" font-size=\"14.00\">Age Range : categorical</text>\n",
       "<text text-anchor=\"start\" x=\"8\" y=\"-378.7\" font-family=\"Times,serif\" font-size=\"14.00\">Sex : categorical</text>\n",
       "<text text-anchor=\"start\" x=\"8\" y=\"-362.2\" font-family=\"Times,serif\" font-size=\"14.00\">Protected category : categorical</text>\n",
       "<text text-anchor=\"start\" x=\"8\" y=\"-345.7\" font-family=\"Times,serif\" font-size=\"14.00\">Study area : categorical</text>\n",
       "<text text-anchor=\"start\" x=\"8\" y=\"-329.2\" font-family=\"Times,serif\" font-size=\"14.00\">Study Title : categorical</text>\n",
       "<text text-anchor=\"start\" x=\"8\" y=\"-312.7\" font-family=\"Times,serif\" font-size=\"14.00\">Years Experience : categorical</text>\n",
       "<text text-anchor=\"start\" x=\"8\" y=\"-296.2\" font-family=\"Times,serif\" font-size=\"14.00\">Sector : categorical</text>\n",
       "<text text-anchor=\"start\" x=\"8\" y=\"-279.7\" font-family=\"Times,serif\" font-size=\"14.00\">Year of insertion : numerical</text>\n",
       "<text text-anchor=\"start\" x=\"8\" y=\"-263.2\" font-family=\"Times,serif\" font-size=\"14.00\">Year of Recruitment : numerical</text>\n",
       "<text text-anchor=\"start\" x=\"8\" y=\"-246.7\" font-family=\"Times,serif\" font-size=\"14.00\">Assumption Headquarters : categorical</text>\n",
       "<text text-anchor=\"start\" x=\"8\" y=\"-230.2\" font-family=\"Times,serif\" font-size=\"14.00\">Job Family Hiring : categorical</text>\n",
       "<text text-anchor=\"start\" x=\"8\" y=\"-213.7\" font-family=\"Times,serif\" font-size=\"14.00\">Job Title Hiring : categorical</text>\n",
       "<text text-anchor=\"start\" x=\"8\" y=\"-197.2\" font-family=\"Times,serif\" font-size=\"14.00\">Years Experience.1 : categorical</text>\n",
       "<text text-anchor=\"start\" x=\"8\" y=\"-180.7\" font-family=\"Times,serif\" font-size=\"14.00\">Minimum Ral : categorical</text>\n",
       "<text text-anchor=\"start\" x=\"8\" y=\"-164.2\" font-family=\"Times,serif\" font-size=\"14.00\">Ral Maximum : categorical</text>\n",
       "<text text-anchor=\"start\" x=\"8\" y=\"-147.7\" font-family=\"Times,serif\" font-size=\"14.00\">Study Level : categorical</text>\n",
       "<text text-anchor=\"start\" x=\"8\" y=\"-131.2\" font-family=\"Times,serif\" font-size=\"14.00\">Study Area.1 : categorical</text>\n",
       "<text text-anchor=\"start\" x=\"8\" y=\"-114.7\" font-family=\"Times,serif\" font-size=\"14.00\">Akkodis headquarters : categorical</text>\n",
       "<text text-anchor=\"start\" x=\"8\" y=\"-98.2\" font-family=\"Times,serif\" font-size=\"14.00\">Current Ral : categorical</text>\n",
       "<text text-anchor=\"start\" x=\"8\" y=\"-81.7\" font-family=\"Times,serif\" font-size=\"14.00\">Expected Ral : categorical</text>\n",
       "<text text-anchor=\"start\" x=\"8\" y=\"-65.2\" font-family=\"Times,serif\" font-size=\"14.00\">City : city</text>\n",
       "<text text-anchor=\"start\" x=\"8\" y=\"-48.7\" font-family=\"Times,serif\" font-size=\"14.00\">Province : administrative_unit</text>\n",
       "<text text-anchor=\"start\" x=\"8\" y=\"-32.2\" font-family=\"Times,serif\" font-size=\"14.00\">Region : categorical</text>\n",
       "<polyline fill=\"none\" stroke=\"black\" points=\"0,-25 228.25,-25\"/>\n",
       "<text text-anchor=\"start\" x=\"8\" y=\"-7.7\" font-family=\"Times,serif\" font-size=\"14.00\">Primary key: ID</text>\n",
       "</g>\n",
       "</g>\n",
       "</svg>\n"
      ],
      "text/plain": [
       "<graphviz.graphs.Digraph at 0x14c9ef610>"
      ]
     },
     "execution_count": 157,
     "metadata": {},
     "output_type": "execute_result"
    }
   ],
   "source": [
    "print('Auto detected data:\\n')\n",
    "metadata.visualize()"
   ]
  },
  {
   "cell_type": "markdown",
   "metadata": {},
   "source": [
    "Creating a subsample of the data for training the model (12k IDs will kill your kernel, Colab tested at 1000 sequences/IDs)"
   ]
  },
  {
   "cell_type": "code",
   "execution_count": 158,
   "metadata": {},
   "outputs": [],
   "source": [
    "# subsampled_data = get_random_sequence_subset(\n",
    "#     data, \n",
    "#     metadata,\n",
    "#     num_sequences=400\n",
    "# )"
   ]
  },
  {
   "cell_type": "markdown",
   "metadata": {
    "id": "1hTeMzWECGzn"
   },
   "source": [
    "## 2.3 Validation\n",
    "Now, the metadata should be accurate. Let's validate that the metadata format makes sense. If successful, the code below should run without any errors."
   ]
  },
  {
   "cell_type": "code",
   "execution_count": 159,
   "metadata": {
    "id": "mBPT-q-BCGLs"
   },
   "outputs": [],
   "source": [
    "metadata.validate()"
   ]
  },
  {
   "cell_type": "markdown",
   "metadata": {},
   "source": []
  },
  {
   "cell_type": "code",
   "execution_count": null,
   "metadata": {},
   "outputs": [],
   "source": []
  },
  {
   "cell_type": "markdown",
   "metadata": {
    "id": "N9S6Kz0RCvph"
   },
   "source": [
    "# 3. Creating Synthetic Data\n",
    "With these preparatory steps completed, we can now use the metadata description and data in the SDV. The coe below will train a model and create synthetic data."
   ]
  },
  {
   "cell_type": "code",
   "execution_count": 160,
   "metadata": {
    "colab": {
     "base_uri": "https://localhost:8080/"
    },
    "id": "7-PF8vWXCuCc",
    "outputId": "fe7bddc0-25a9-4625-bd26-2d2a758b222a"
   },
   "outputs": [],
   "source": [
    "# synthesizer = CTGANSynthesizer(\n",
    "#     metadata,\n",
    "#     locales='it_IT'\n",
    "# )"
   ]
  },
  {
   "cell_type": "code",
   "execution_count": null,
   "metadata": {},
   "outputs": [
    {
     "name": "stderr",
     "output_type": "stream",
     "text": [
      "/opt/anaconda3/envs/industryproject/lib/python3.11/site-packages/sdv/single_table/base.py:104: UserWarning:\n",
      "\n",
      "We strongly recommend saving the metadata using 'save_to_json' for replicability in future SDV versions.\n",
      "\n"
     ]
    }
   ],
   "source": [
    "\n",
    "synthesizer = GaussianCopulaSynthesizer(\n",
    "    metadata,\n",
    "    locales='it_IT',\n",
    "    verbose=True\n",
    ")\n"
   ]
  },
  {
   "cell_type": "code",
   "execution_count": 162,
   "metadata": {},
   "outputs": [],
   "source": [
    "# synthesizer = CopulaGANSynthesizer(\n",
    "#     metadata,\n",
    "#     locales='it_IT',\n",
    "#     verbose=True\n",
    "# )"
   ]
  },
  {
   "cell_type": "code",
   "execution_count": 163,
   "metadata": {},
   "outputs": [],
   "source": [
    "synthesizer.auto_assign_transformers(candidates)"
   ]
  },
  {
   "cell_type": "code",
   "execution_count": 164,
   "metadata": {},
   "outputs": [
    {
     "data": {
      "text/plain": [
       "{'ID': RegexGenerator(regex_format='[1-9]{1,9}', enforce_uniqueness=True, generation_order='scrambled'),\n",
       " 'Candidate State': UniformEncoder(),\n",
       " 'Age Range': UniformEncoder(),\n",
       " 'Sex': UniformEncoder(),\n",
       " 'Protected category': UniformEncoder(),\n",
       " 'Study area': UniformEncoder(),\n",
       " 'Study Title': UniformEncoder(),\n",
       " 'Years Experience': UniformEncoder(),\n",
       " 'Sector': UniformEncoder(),\n",
       " 'Year of insertion': FloatFormatter(computer_representation='Int64'),\n",
       " 'Year of Recruitment': FloatFormatter(computer_representation='Int64'),\n",
       " 'Assumption Headquarters': UniformEncoder(),\n",
       " 'Job Family Hiring': UniformEncoder(),\n",
       " 'Job Title Hiring': UniformEncoder(),\n",
       " 'Years Experience.1': UniformEncoder(),\n",
       " 'Minimum Ral': UniformEncoder(),\n",
       " 'Ral Maximum': UniformEncoder(),\n",
       " 'Study Level': UniformEncoder(),\n",
       " 'Study Area.1': UniformEncoder(),\n",
       " 'Akkodis headquarters': UniformEncoder(),\n",
       " 'Current Ral': UniformEncoder(),\n",
       " 'Expected Ral': UniformEncoder(),\n",
       " 'City': AnonymizedFaker(provider_name='address.it_IT', function_name='city', locales='it_IT'),\n",
       " 'Province': AnonymizedFaker(provider_name='address.it_IT', function_name='administrative_unit', locales='it_IT'),\n",
       " 'Region': UniformEncoder()}"
      ]
     },
     "execution_count": 164,
     "metadata": {},
     "output_type": "execute_result"
    }
   ],
   "source": [
    "synthesizer.get_transformers()\n"
   ]
  },
  {
   "cell_type": "code",
   "execution_count": 165,
   "metadata": {},
   "outputs": [
    {
     "name": "stdout",
     "output_type": "stream",
     "text": [
      "Unique values in column A: <IntegerArray>\n",
      "[<NA>, 2023, 2022, 2018, 2019, 2021, 2020, 2024]\n",
      "Length: 8, dtype: Int64\n",
      "8\n",
      "Year of insertion\n",
      "2022    43.762263\n",
      "2021    36.290059\n",
      "2023    14.829954\n",
      "2019     1.970242\n",
      "2018     1.659581\n",
      "2020     1.487901\n",
      "Name: proportion, dtype: Float64\n"
     ]
    }
   ],
   "source": [
    "print(\"Unique values in column A:\", candidates['Year of Recruitment'].unique())\n",
    "print(len(candidates['Study Level'].unique()))\n",
    "percentages = candidates['Year of insertion'].value_counts(normalize=True) * 100\n",
    "print(percentages)\n"
   ]
  },
  {
   "cell_type": "code",
   "execution_count": 166,
   "metadata": {},
   "outputs": [],
   "source": [
    "synthesizer.update_transformers(column_name_to_transformer={\n",
    "    'Study Title': OrderedUniformEncoder(order=['Middle school diploma', 'High school graduation', 'Three-year degree', 'Professional qualification',\n",
    "                         'Five-year degree', \"master's degree\", 'Doctorate']),\n",
    "    'Study Level': OrderedUniformEncoder(order=[None, 'Middle school diploma', 'High school graduation', 'Three-year degree', 'Professional qualification',\n",
    "                         'Five-year degree', \"master's degree\", 'Doctorate']),\n",
    "    'Age Range': OrderedUniformEncoder(order=['< 20 years', '20 - 25 years', '26 - 30 years', '31 - 35 years',\n",
    "                                     '36 - 40 years', '40 - 45 years', '> 45 years' ]),\n",
    "    'Minimum Ral': OrderedUniformEncoder(order=[None, '- 20K', '20-22K', '22-24K', '24-26K', '26-28K', '28-30K', '30-32K', '32-34K', '34-36K', '36-38K', '38-40K', '40-42K', '+50K']),\n",
    "    'Ral Maximum': OrderedUniformEncoder(order=[None, '- 20K', '20-22K', '22-24K', '24-26K', '26-28K', '28-30K', '30-32K', '32-34K', '34-36K', '36-38K', '38-40K', '40-42K', '42-44K', '44-46K', '48-50K', '+50K']),\n",
    "    'Current Ral': OrderedUniformEncoder(order=[None, '- 20 K', '20-22 K', '22-24 K', '24-26 K', '26-28 K', '28-30 K', '30-32 K', '32-34 K', '34-36 K', '36-38 K', '38-40 K', '40-42 K', '42-44 K', '44-46 K', '46-48 K', '48-50 K', '+ 50 K']),\n",
    "    'Expected Ral': OrderedUniformEncoder(order=[None, '- 20 K', '20-22 K', '22-24 K', '24-26 K', '26-28 K', '28-30 K', '30-32 K', '32-34 K', '34-36 K', '36-38 K', '38-40 K', '40-42 K', '42-44 K', '44-46 K', '46-48 K', '48-50 K', '+ 50 K']),\n",
    "    'Years Experience.1' : OrderedUniformEncoder(order=[None, '[0]', '[0-1]', '[1-3]', '[3-5]', '[5-7]', '[7-10]', '[+10]']),\n",
    "    'Years Experience' : OrderedUniformEncoder(order=[ '[0]', '[0-1]', '[1-3]', '[3-5]', '[5-7]', '[7-10]', '[+10]']),\n",
    "    'Year of insertion' : GaussianNormalizer(learn_rounding_scheme=True, distribution='gaussian_kde'),\n",
    "    'Year of Recruitment' : GaussianNormalizer(learn_rounding_scheme=True, distribution='gaussian_kde')      \n",
    " \n",
    "       \n",
    "    })\n"
   ]
  },
  {
   "cell_type": "code",
   "execution_count": 167,
   "metadata": {},
   "outputs": [
    {
     "data": {
      "text/plain": [
       "{'ID': RegexGenerator(regex_format='[1-9]{1,9}', enforce_uniqueness=True, generation_order='scrambled'),\n",
       " 'Candidate State': UniformEncoder(),\n",
       " 'Age Range': OrderedUniformEncoder(order=<CUSTOM>),\n",
       " 'Sex': UniformEncoder(),\n",
       " 'Protected category': UniformEncoder(),\n",
       " 'Study area': UniformEncoder(),\n",
       " 'Study Title': OrderedUniformEncoder(order=<CUSTOM>),\n",
       " 'Years Experience': OrderedUniformEncoder(order=<CUSTOM>),\n",
       " 'Sector': UniformEncoder(),\n",
       " 'Year of insertion': GaussianNormalizer(learn_rounding_scheme=True),\n",
       " 'Year of Recruitment': GaussianNormalizer(learn_rounding_scheme=True),\n",
       " 'Assumption Headquarters': UniformEncoder(),\n",
       " 'Job Family Hiring': UniformEncoder(),\n",
       " 'Job Title Hiring': UniformEncoder(),\n",
       " 'Years Experience.1': OrderedUniformEncoder(order=<CUSTOM>),\n",
       " 'Minimum Ral': OrderedUniformEncoder(order=<CUSTOM>),\n",
       " 'Ral Maximum': OrderedUniformEncoder(order=<CUSTOM>),\n",
       " 'Study Level': OrderedUniformEncoder(order=<CUSTOM>),\n",
       " 'Study Area.1': UniformEncoder(),\n",
       " 'Akkodis headquarters': UniformEncoder(),\n",
       " 'Current Ral': OrderedUniformEncoder(order=<CUSTOM>),\n",
       " 'Expected Ral': OrderedUniformEncoder(order=<CUSTOM>),\n",
       " 'City': AnonymizedFaker(provider_name='address.it_IT', function_name='city', locales='it_IT'),\n",
       " 'Province': AnonymizedFaker(provider_name='address.it_IT', function_name='administrative_unit', locales='it_IT'),\n",
       " 'Region': UniformEncoder()}"
      ]
     },
     "execution_count": 167,
     "metadata": {},
     "output_type": "execute_result"
    }
   ],
   "source": [
    "synthesizer.get_transformers()"
   ]
  },
  {
   "cell_type": "markdown",
   "metadata": {},
   "source": [
    "### 3.1 Adding constraints"
   ]
  },
  {
   "cell_type": "code",
   "execution_count": 168,
   "metadata": {},
   "outputs": [],
   "source": [
    "year_constraint = {\n",
    "    'constraint_class': 'Inequality',\n",
    "    'constraint_parameters': {\n",
    "        'low_column_name': 'Year of insertion',\n",
    "        'high_column_name': 'Year of Recruitment',\n",
    "        'strict_boundaries': False\n",
    "    }\n",
    "}\n",
    "\n",
    "# # location_constraint = {\n",
    "# #     'constraint_class': 'FixedCombinations',\n",
    "# #     'constraint_parameters': {\n",
    "# #         'column_names': ['City', 'Province', 'Region']\n",
    "# #     }\n",
    "# # }\n",
    "\n",
    "synthesizer.add_constraints(constraints=[\n",
    "    year_constraint\n",
    "])\n"
   ]
  },
  {
   "cell_type": "markdown",
   "metadata": {},
   "source": [
    "### 3.2 Training the Synthesizer"
   ]
  },
  {
   "cell_type": "code",
   "execution_count": 169,
   "metadata": {},
   "outputs": [],
   "source": [
    "\n",
    "# Step 2: Train the synthesizer\n",
    "synthesizer.fit(candidates)\n"
   ]
  },
  {
   "cell_type": "code",
   "execution_count": 170,
   "metadata": {},
   "outputs": [
    {
     "name": "stderr",
     "output_type": "stream",
     "text": [
      "Sampling rows: 100%|██████████| 1000/1000 [00:06<00:00, 158.56it/s]\n"
     ]
    }
   ],
   "source": [
    "\n",
    "# Step 3: Generate synthetic data\n",
    "synthetic_data = synthesizer.sample(num_rows=1000)"
   ]
  },
  {
   "cell_type": "code",
   "execution_count": 171,
   "metadata": {},
   "outputs": [
    {
     "name": "stdout",
     "output_type": "stream",
     "text": [
      "/Users/jarnostijnman/Documents/VS Code/AI Industry project/SDV/outputs/singletable/2024-12-09_21-23-19\n"
     ]
    }
   ],
   "source": [
    "import os, datetime\n",
    "\n",
    "mydir = os.path.join(os.getcwd(),'SDV/outputs/singletable/', datetime.datetime.now().strftime('%Y-%m-%d_%H-%M-%S'))\n",
    "os.makedirs(mydir)\n",
    "print(mydir)\n",
    "\n",
    "synthesizer.save(filepath=os.path.join(mydir, 'synthesizer.pkl'))\n",
    "\n",
    "metadata = synthesizer.get_metadata()\n",
    "metadata.save_to_json(filepath=os.path.join(mydir,'metadata.json'))\n",
    "\n",
    "synthetic_data.to_csv(os.path.join(mydir, 'synthetic_data.csv'), index=False)\n",
    "\n",
    "parameters = synthesizer.get_parameters()\n",
    "with open(os.path.join(mydir, 'parameters.txt'), 'w') as f:\n",
    "    f.write(str(parameters))\n"
   ]
  },
  {
   "cell_type": "markdown",
   "metadata": {},
   "source": [
    "## Diagnostics"
   ]
  },
  {
   "cell_type": "code",
   "execution_count": 172,
   "metadata": {},
   "outputs": [
    {
     "name": "stdout",
     "output_type": "stream",
     "text": [
      "Generating report ...\n",
      "\n",
      "(1/2) Evaluating Data Validity: |██████████| 25/25 [00:00<00:00, 621.75it/s]|\n",
      "Data Validity Score: 100.0%\n",
      "\n",
      "(2/2) Evaluating Data Structure: |██████████| 1/1 [00:00<00:00, 347.70it/s]|\n",
      "Data Structure Score: 100.0%\n",
      "\n",
      "Overall Score (Average): 100.0%\n",
      "\n",
      "Generating report ...\n",
      "\n",
      "(1/2) Evaluating Column Shapes: |██████████| 25/25 [00:00<00:00, 636.80it/s]|\n",
      "Column Shapes Score: 87.2%\n",
      "\n",
      "(2/2) Evaluating Column Pair Trends: |██████████| 300/300 [00:01<00:00, 167.79it/s]|\n",
      "Column Pair Trends Score: 92.6%\n",
      "\n",
      "Overall Score (Average): 89.9%\n",
      "\n"
     ]
    },
    {
     "data": {
      "application/vnd.plotly.v1+json": {
       "config": {
        "plotlyServerURL": "https://plot.ly"
       },
       "data": [
        {
         "fill": "tozeroy",
         "hovertemplate": "<b>Real</b><br>Frequency: %{y}<extra></extra>",
         "legendgroup": "Real",
         "marker": {
          "color": "#000036"
         },
         "mode": "lines",
         "name": "Real",
         "showlegend": true,
         "type": "scatter",
         "x": [
          2018,
          2018.01,
          2018.02,
          2018.03,
          2018.04,
          2018.05,
          2018.06,
          2018.07,
          2018.08,
          2018.09,
          2018.1,
          2018.11,
          2018.12,
          2018.13,
          2018.14,
          2018.15,
          2018.16,
          2018.17,
          2018.18,
          2018.19,
          2018.2,
          2018.21,
          2018.22,
          2018.23,
          2018.24,
          2018.25,
          2018.26,
          2018.27,
          2018.28,
          2018.29,
          2018.3,
          2018.31,
          2018.32,
          2018.33,
          2018.34,
          2018.35,
          2018.36,
          2018.37,
          2018.38,
          2018.39,
          2018.4,
          2018.41,
          2018.42,
          2018.43,
          2018.44,
          2018.45,
          2018.46,
          2018.47,
          2018.48,
          2018.49,
          2018.5,
          2018.51,
          2018.52,
          2018.53,
          2018.54,
          2018.55,
          2018.56,
          2018.57,
          2018.58,
          2018.59,
          2018.6,
          2018.61,
          2018.62,
          2018.63,
          2018.64,
          2018.65,
          2018.66,
          2018.67,
          2018.68,
          2018.69,
          2018.7,
          2018.71,
          2018.72,
          2018.73,
          2018.74,
          2018.75,
          2018.76,
          2018.77,
          2018.78,
          2018.79,
          2018.8,
          2018.81,
          2018.82,
          2018.83,
          2018.84,
          2018.85,
          2018.86,
          2018.87,
          2018.88,
          2018.89,
          2018.9,
          2018.91,
          2018.92,
          2018.93,
          2018.94,
          2018.95,
          2018.96,
          2018.97,
          2018.98,
          2018.99,
          2019,
          2019.01,
          2019.02,
          2019.03,
          2019.04,
          2019.05,
          2019.06,
          2019.07,
          2019.08,
          2019.09,
          2019.1,
          2019.11,
          2019.12,
          2019.13,
          2019.14,
          2019.15,
          2019.16,
          2019.17,
          2019.18,
          2019.19,
          2019.2,
          2019.21,
          2019.22,
          2019.23,
          2019.24,
          2019.25,
          2019.26,
          2019.27,
          2019.28,
          2019.29,
          2019.3,
          2019.31,
          2019.32,
          2019.33,
          2019.34,
          2019.35,
          2019.36,
          2019.37,
          2019.38,
          2019.39,
          2019.4,
          2019.41,
          2019.42,
          2019.43,
          2019.44,
          2019.45,
          2019.46,
          2019.47,
          2019.48,
          2019.49,
          2019.5,
          2019.51,
          2019.52,
          2019.53,
          2019.54,
          2019.55,
          2019.56,
          2019.57,
          2019.58,
          2019.59,
          2019.6,
          2019.61,
          2019.62,
          2019.63,
          2019.64,
          2019.65,
          2019.66,
          2019.67,
          2019.68,
          2019.69,
          2019.7,
          2019.71,
          2019.72,
          2019.73,
          2019.74,
          2019.75,
          2019.76,
          2019.77,
          2019.78,
          2019.79,
          2019.8,
          2019.81,
          2019.82,
          2019.83,
          2019.84,
          2019.85,
          2019.86,
          2019.87,
          2019.88,
          2019.89,
          2019.9,
          2019.91,
          2019.92,
          2019.93,
          2019.94,
          2019.95,
          2019.96,
          2019.97,
          2019.98,
          2019.99,
          2020,
          2020.01,
          2020.02,
          2020.03,
          2020.04,
          2020.05,
          2020.06,
          2020.07,
          2020.08,
          2020.09,
          2020.1,
          2020.11,
          2020.12,
          2020.13,
          2020.14,
          2020.15,
          2020.16,
          2020.17,
          2020.18,
          2020.19,
          2020.2,
          2020.21,
          2020.22,
          2020.23,
          2020.24,
          2020.25,
          2020.26,
          2020.27,
          2020.28,
          2020.29,
          2020.3,
          2020.31,
          2020.32,
          2020.33,
          2020.34,
          2020.35,
          2020.36,
          2020.37,
          2020.38,
          2020.39,
          2020.4,
          2020.41,
          2020.42,
          2020.43,
          2020.44,
          2020.45,
          2020.46,
          2020.47,
          2020.48,
          2020.49,
          2020.5,
          2020.51,
          2020.52,
          2020.53,
          2020.54,
          2020.55,
          2020.56,
          2020.57,
          2020.58,
          2020.59,
          2020.6,
          2020.61,
          2020.62,
          2020.63,
          2020.64,
          2020.65,
          2020.66,
          2020.67,
          2020.68,
          2020.69,
          2020.7,
          2020.71,
          2020.72,
          2020.73,
          2020.74,
          2020.75,
          2020.76,
          2020.77,
          2020.78,
          2020.79,
          2020.8,
          2020.81,
          2020.82,
          2020.83,
          2020.84,
          2020.85,
          2020.86,
          2020.87,
          2020.88,
          2020.89,
          2020.9,
          2020.91,
          2020.92,
          2020.93,
          2020.94,
          2020.95,
          2020.96,
          2020.97,
          2020.98,
          2020.99,
          2021,
          2021.01,
          2021.02,
          2021.03,
          2021.04,
          2021.05,
          2021.06,
          2021.07,
          2021.08,
          2021.09,
          2021.1,
          2021.11,
          2021.12,
          2021.13,
          2021.14,
          2021.15,
          2021.16,
          2021.17,
          2021.18,
          2021.19,
          2021.2,
          2021.21,
          2021.22,
          2021.23,
          2021.24,
          2021.25,
          2021.26,
          2021.27,
          2021.28,
          2021.29,
          2021.3,
          2021.31,
          2021.32,
          2021.33,
          2021.34,
          2021.35,
          2021.36,
          2021.37,
          2021.38,
          2021.39,
          2021.4,
          2021.41,
          2021.42,
          2021.43,
          2021.44,
          2021.45,
          2021.46,
          2021.47,
          2021.48,
          2021.49,
          2021.5,
          2021.51,
          2021.52,
          2021.53,
          2021.54,
          2021.55,
          2021.56,
          2021.57,
          2021.58,
          2021.59,
          2021.6,
          2021.61,
          2021.62,
          2021.63,
          2021.64,
          2021.65,
          2021.66,
          2021.67,
          2021.68,
          2021.69,
          2021.7,
          2021.71,
          2021.72,
          2021.73,
          2021.74,
          2021.75,
          2021.76,
          2021.77,
          2021.78,
          2021.79,
          2021.8,
          2021.81,
          2021.82,
          2021.83,
          2021.84,
          2021.85,
          2021.86,
          2021.87,
          2021.88,
          2021.89,
          2021.9,
          2021.91,
          2021.92,
          2021.93,
          2021.94,
          2021.95,
          2021.96,
          2021.97,
          2021.98,
          2021.99,
          2022,
          2022.01,
          2022.02,
          2022.03,
          2022.04,
          2022.05,
          2022.06,
          2022.07,
          2022.08,
          2022.09,
          2022.1,
          2022.11,
          2022.12,
          2022.13,
          2022.14,
          2022.15,
          2022.16,
          2022.17,
          2022.18,
          2022.19,
          2022.2,
          2022.21,
          2022.22,
          2022.23,
          2022.24,
          2022.25,
          2022.26,
          2022.27,
          2022.28,
          2022.29,
          2022.3,
          2022.31,
          2022.32,
          2022.33,
          2022.34,
          2022.35,
          2022.36,
          2022.37,
          2022.38,
          2022.39,
          2022.4,
          2022.41,
          2022.42,
          2022.43,
          2022.44,
          2022.45,
          2022.46,
          2022.47,
          2022.48,
          2022.49,
          2022.5,
          2022.51,
          2022.52,
          2022.53,
          2022.54,
          2022.55,
          2022.56,
          2022.57,
          2022.58,
          2022.59,
          2022.6,
          2022.61,
          2022.62,
          2022.63,
          2022.64,
          2022.65,
          2022.66,
          2022.67,
          2022.68,
          2022.69,
          2022.7,
          2022.71,
          2022.72,
          2022.73,
          2022.74,
          2022.75,
          2022.76,
          2022.77,
          2022.78,
          2022.79,
          2022.8,
          2022.81,
          2022.82,
          2022.83,
          2022.84,
          2022.85,
          2022.86,
          2022.87,
          2022.88,
          2022.89,
          2022.9,
          2022.91,
          2022.92,
          2022.93,
          2022.94,
          2022.95,
          2022.96,
          2022.97,
          2022.98,
          2022.99
         ],
         "xaxis": "x",
         "y": [
          0.04644559140959535,
          0.046331447688376874,
          0.04599069687129125,
          0.04542833884053854,
          0.0446525709395777,
          0.043674589153422476,
          0.04250831928236813,
          0.041170087129516794,
          0.039678238615590104,
          0.03805272216298947,
          0.03631464660561905,
          0.03448582825833295,
          0.032588340617651736,
          0.03064407949641639,
          0.028674355265485348,
          0.026699522359489143,
          0.024738654384466072,
          0.02280927113592482,
          0.02092712170222359,
          0.019106025679186425,
          0.01735777245753491,
          0.01569207663994209,
          0.014116585972443188,
          0.012636936780636272,
          0.01125685082275515,
          0.009978266724668762,
          0.008801498741803913,
          0.0077254154889480914,
          0.006747631457584246,
          0.005864704567170159,
          0.005072333622008793,
          0.00436555032285168,
          0.0037389013611908166,
          0.003186617054351012,
          0.0027027639185749196,
          0.0022813794859320364,
          0.0019165885158609595,
          0.0016027005107602365,
          0.0013342890984142264,
          0.0011062543835973636,
          0.0009138697918631707,
          0.0007528152338471495,
          0.0006191986135806876,
          0.0005095677994613,
          0.0004209151834579411,
          0.00035067688525676927,
          0.00029672852657841884,
          0.00025737931858432723,
          0.00023136598338647826,
          0.00021784777841395736,
          0.00021640361738267002,
          0.0002270319900453071,
          0.00025015407931612966,
          0.00028662016239686334,
          0.00033771906525324687,
          0.00040519012024215726,
          0.0004912367583570516,
          0.0005985405551487212,
          0.0007302742489777604,
          0.0008901119697186191,
          0.0010822346656399087,
          0.0013113285076876747,
          0.001582573898075243,
          0.0019016226287602916,
          0.0022745607415827983,
          0.0027078547513760725,
          0.0032082791197445503,
          0.0037828232242960976,
          0.004438576561738195,
          0.005182591557930079,
          0.006021724127902074,
          0.006962453024092041,
          0.008010680010251556,
          0.0091715139718397,
          0.010449043185191386,
          0.011846101069785205,
          0.013364031786942607,
          0.015002462969871278,
          0.016759093610497138,
          0.018629505633438532,
          0.020607007897965532,
          0.0226825212440912,
          0.02484451270133203,
          0.027078986088361054,
          0.029369534952693732,
          0.03169746214400922,
          0.034041968328973465,
          0.03638040949339046,
          0.03868862102657097,
          0.040941303433569734,
          0.043112462184381035,
          0.045175891802123815,
          0.04710569213245556,
          0.048876802936010315,
          0.05046554160430073,
          0.051850128005517714,
          0.05301118027544026,
          0.05393216581415051,
          0.05459979283663926,
          0.05500432952155297,
          0.05513984004831055,
          0.055004329521444816,
          0.05459979283639995,
          0.053932165813728505,
          0.05301118027474537,
          0.05185012800440258,
          0.05046554160253144,
          0.0488768029332645,
          0.04710569212807563,
          0.045175891795275085,
          0.04311246217376975,
          0.04094130341702847,
          0.038688621001031015,
          0.036380409454135176,
          0.03404196826898005,
          0.0316974620525713,
          0.02936953481413798,
          0.02707898587948054,
          0.02484451238778666,
          0.022682520775861813,
          0.020607007202157718,
          0.018629504604500458,
          0.016759092096392023,
          0.01500246075275579,
          0.013364028556369624,
          0.011846096385474443,
          0.010449036426388033,
          0.009171504267697918,
          0.008010666145646628,
          0.006962433312541097,
          0.006021696241212458,
          0.005182552299226744,
          0.004438521564898495,
          0.0037827465583861767,
          0.0032081727716864205,
          0.00270770795352224,
          0.0022743591035063676,
          0.0019013470230975639,
          0.001582199040347653,
          0.0013108211578031898,
          0.0010815513656688164,
          0.0008891962174906111,
          0.0007290529912724147,
          0.0005969198672313643,
          0.0004890965590529134,
          0.000402377754563584,
          0.00033404157012078807,
          0.0002818350166473356,
          0.00024395822809515316,
          0.0002190489273967349,
          0.00020616831115439604,
          0.00020478923039069503,
          0.0002147872370463683,
          0.00023643475915058484,
          0.0002703983653384923,
          0.00031773878445664073,
          0.0003799130611870653,
          0.00045877795708986884,
          0.000556593452104217,
          0.0006760249696901524,
          0.0008201427458659981,
          0.0009924165967256304,
          0.001196704219821329,
          0.0014372311030587204,
          0.001718560121480774,
          0.0020455489887568337,
          0.002423293906712523,
          0.0028570580313908504,
          0.0033521837535503457,
          0.003913988276362368,
          0.004547642561045529,
          0.005258034392623371,
          0.006049617077038624,
          0.006926246096941467,
          0.007891006895919109,
          0.00894603779701335,
          0.010092352848815383,
          0.01132967009059107,
          0.012656251290013043,
          0.014068759588332376,
          0.015562141649991965,
          0.01712954081991113,
          0.018762247415500963,
          0.02044969161122539,
          0.022179483405671212,
          0.023937502913547248,
          0.02570804272305269,
          0.027474002353684163,
          0.029217132997843103,
          0.03091832880292594,
          0.03255795903844587,
          0.03411623367164413,
          0.03557359324705789,
          0.036911112602728766,
          0.038110906945871256,
          0.03915652820949168,
          0.04003333946666321,
          0.04072885551738233,
          0.041233038582312934,
          0.041538539319759635,
          0.04164087507791069,
          0.04153853933998019,
          0.0412330386274092,
          0.04072885559764294,
          0.04003333960018197,
          0.039156528425766376,
          0.03811090729177406,
          0.03691111315163814,
          0.03557359411299666,
          0.03411623503040867,
          0.032557961159689446,
          0.030918332098233737,
          0.029217138091689143,
          0.027474010188999757,
          0.025708054716024182,
          0.023937521180390962,
          0.022179511091725865,
          0.02044973336743913,
          0.018762310083354536,
          0.017129634410220987,
          0.01556228073480728,
          0.014068965267947372,
          0.012656553957452682,
          0.01133011329373724,
          0.010092998655739349,
          0.00894697420552297,
          0.007892358006001732,
          0.006928185994789348,
          0.00605238867188688,
          0.005261974820398513,
          0.004553217238502416,
          0.0039218362740029555,
          0.0033631778800877663,
          0.0028723839086937705,
          0.0024445533899510176,
          0.0020748945763673335,
          0.0017588685310610441,
          0.001492325985656852,
          0.001271640064600442,
          0.0010938382532895204,
          0.0009567376628039691,
          0.0008590882007820626,
          0.000800728682149319,
          0.0007827611886930802,
          0.0008077490929839331,
          0.0008799440753864296,
          0.001005547153844853,
          0.0011930081806025632,
          0.0014533674001022776,
          0.001800641468237466,
          0.0022522547655905905,
          0.002829514860706802,
          0.0035581285678004033,
          0.004468752183375453,
          0.005597566183644412,
          0.006986860952565636,
          0.008685616049166605,
          0.01075005121364614,
          0.013244122889659414,
          0.016239935690382325,
          0.019818034179758852,
          0.024067536838269416,
          0.029086071437150533,
          0.03497946957218763,
          0.041861178132462554,
          0.049851347339402184,
          0.05907555895256239,
          0.06966316457679832,
          0.08174521284464156,
          0.09545195568791996,
          0.11090993785664173,
          0.12823869011001834,
          0.14754706469042522,
          0.16892927129836088,
          0.19246069209420555,
          0.21819357439397644,
          0.24615271877536044,
          0.2763312971722568,
          0.30868694908885397,
          0.34313831330252365,
          0.3795621562528723,
          0.4177912559776568,
          0.4576131912203452,
          0.4987701689600988,
          0.5409600000045313,
          0.583838301772078,
          0.6270219708019895,
          0.6700939258957322,
          0.7126090775788285,
          0.7541014326501018,
          0.7940921958641434,
          0.8320986864393648,
          0.8676438472984958,
          0.9002660917874692,
          0.9295292079277082,
          0.9550320256101542,
          0.9764175486108162,
          0.9933812615439586,
          1.0056783418753457,
          1.013129538344364,
          1.0156255185588139,
          1.013129538369172,
          1.0056783419308288,
          0.9933812616430264,
          0.9764175487751457,
          0.9550320258770588,
          0.9295292083537163,
          0.90026609246371,
          0.8676438483660167,
          0.8320986881131353,
          0.7940921984772151,
          0.7541014367091061,
          0.7126090838543837,
          0.6700939355470346,
          0.627021985574646,
          0.5838383242726498,
          0.540960034107562,
          0.4987702203944803,
          0.45761326841306926,
          0.417791371261041,
          0.3795623275743351,
          0.34313856665391923,
          0.30868732190847503,
          0.27633184309968395,
          0.24615351426548338,
          0.21819472784046132,
          0.19246235636122092,
          0.16893166081998734,
          0.14755047867728577,
          0.1282435438389066,
          0.11091680461628663,
          0.0954616226711956,
          0.08175875515756573,
          0.06968204264050921,
          0.059101745895831954,
          0.04988749456034141,
          0.04191082910594096,
          0.03504733418341091,
          0.029178375689972873,
          0.02419246570583895,
          0.01998628866176651,
          0.016465428774704364,
          0.01354484305987186,
          0.011149126318661296,
          0.00921261464860195,
          0.007679372519835074,
          0.006503105579903604,
          0.00564703735782887,
          0.005083783170743976,
          0.0047952490012266305,
          0.004772577075247644,
          0.005016153459933812,
          0.005535686320209704,
          0.006350356601082005,
          0.007489035904842431,
          0.008990559277115421,
          0.0109040335816425,
          0.01328915523171312,
          0.016216504395475548,
          0.019767776579612466,
          0.024035906941423303,
          0.02912503805882613,
          0.03515027850287326,
          0.04223719775824921,
          0.05052100316651295,
          0.06014534699760309,
          0.0712607167871193,
          0.08402236999091985,
          0.09858778498089255,
          0.11511361448334557,
          0.13375214467854046,
          0.15464728303908387,
          0.1779301201809059,
          0.20371413485511156,
          0.2320901358664541,
          0.26312105919405854,
          0.29683676166729644,
          0.3332289730186561,
          0.3722465845701916,
          0.4137914640238116,
          0.45771499053499926,
          0.5038155014263516,
          0.5518368308653286,
          0.6014681010925523,
          0.6523448982997816,
          0.7040519285622865,
          0.7561272050490621,
          0.808067767577986,
          0.8593368810571639,
          0.909372602766009,
          0.9575975521346985,
          1.0034296631161566,
          1.04629365137576,
          1.0856328884405024,
          1.1209213452533369,
          1.1516752498441558,
          1.1774640996412185,
          1.197920678847016,
          1.2127497554081048,
          1.2217351698225298,
          1.2247450779085611,
          1.2217351698099004,
          1.2127497553798925,
          1.1979206787967545,
          1.1774640995578067,
          1.151675249708383,
          1.1209213450370803,
          1.0856328880972577,
          1.0462936508342906,
          1.003429662266468,
          0.9575975508081891,
          0.9093726007055094,
          0.8593368778707068,
          0.8080677626786228,
          0.7561271975498894,
          0.7040519171401246,
          0.6523448809877608,
          0.6014680749824638,
          0.5518367916792976,
          0.5038154429032508,
          0.4577149035655808,
          0.4137913354128307,
          0.37224639531186443,
          0.33322869588473686,
          0.2968363578456711,
          0.263120473659921,
          0.23208929102035586,
          0.20371292184132625,
          0.17792838710887188,
          0.15464481909785835,
          0.13374865884522502,
          0.11510870714799487,
          0.09858091037819314,
          0.08401278675416626,
          0.07124742327985126,
          0.06012699726738286,
          0.050495798408043545,
          0.04220274705152578,
          0.035103421286926145,
          0.02906161932408073,
          0.023950494445721858,
          0.019653307551117813,
          0.016063847182787885,
          0.013086569242372984,
          0.010636508668952683,
          0.008639013567565577,
          0.007029349013470114,
          0.00575221338256724,
          0.004761204917632405,
          0.004018270628979825,
          0.003493163796799383,
          0.0031629304983833463,
          0.00301143987828937,
          0.003028967428660488,
          0.0032118354249301394,
          0.003562109919846736,
          0.0040873493647642254,
          0.004800396022214715,
          0.0057191978756739575,
          0.006866645755088075,
          0.008270407912168577,
          0.009962742346813457,
          0.011980265865866865,
          0.014363658220723037,
          0.01715727980831017,
          0.02040868241457374,
          0.024167994413025983,
          0.028487164770612965,
          0.03341905420231316,
          0.0390163668600317,
          0.04533042199605665,
          0.05240977202030553,
          0.060298681111793005,
          0.06903548681914656,
          0.07865087562522355,
          0.08916611188707407,
          0.10059126752303667,
          0.1129235068443746,
          0.12614548660419367,
          0.14022393520274853,
          0.15510847663185115,
          0.17073076385099734,
          0.18700398257808332,
          0.20382277980685773,
          0.221063661758142,
          0.23858589352862916,
          0.2562329177687664,
          0.27383429270350007,
          0.29120813137237556,
          0.30816400478054684,
          0.3245062525654666,
          0.34003762666985643,
          0.35456317725499714,
          0.3678942765416666,
          0.37985266616716395,
          0.39027440767520344,
          0.3990136143126016,
          0.40594584566419,
          0.4109710548406666,
          0.4140159906981105
         ],
         "yaxis": "y"
        },
        {
         "fill": "tozeroy",
         "hovertemplate": "<b>Synthetic</b><br>Frequency: %{y}<extra></extra>",
         "legendgroup": "Synthetic",
         "marker": {
          "color": "#01E0C9"
         },
         "mode": "lines",
         "name": "Synthetic",
         "showlegend": true,
         "type": "scatter",
         "x": [
          2018,
          2018.01,
          2018.02,
          2018.03,
          2018.04,
          2018.05,
          2018.06,
          2018.07,
          2018.08,
          2018.09,
          2018.1,
          2018.11,
          2018.12,
          2018.13,
          2018.14,
          2018.15,
          2018.16,
          2018.17,
          2018.18,
          2018.19,
          2018.2,
          2018.21,
          2018.22,
          2018.23,
          2018.24,
          2018.25,
          2018.26,
          2018.27,
          2018.28,
          2018.29,
          2018.3,
          2018.31,
          2018.32,
          2018.33,
          2018.34,
          2018.35,
          2018.36,
          2018.37,
          2018.38,
          2018.39,
          2018.4,
          2018.41,
          2018.42,
          2018.43,
          2018.44,
          2018.45,
          2018.46,
          2018.47,
          2018.48,
          2018.49,
          2018.5,
          2018.51,
          2018.52,
          2018.53,
          2018.54,
          2018.55,
          2018.56,
          2018.57,
          2018.58,
          2018.59,
          2018.6,
          2018.61,
          2018.62,
          2018.63,
          2018.64,
          2018.65,
          2018.66,
          2018.67,
          2018.68,
          2018.69,
          2018.7,
          2018.71,
          2018.72,
          2018.73,
          2018.74,
          2018.75,
          2018.76,
          2018.77,
          2018.78,
          2018.79,
          2018.8,
          2018.81,
          2018.82,
          2018.83,
          2018.84,
          2018.85,
          2018.86,
          2018.87,
          2018.88,
          2018.89,
          2018.9,
          2018.91,
          2018.92,
          2018.93,
          2018.94,
          2018.95,
          2018.96,
          2018.97,
          2018.98,
          2018.99,
          2019,
          2019.01,
          2019.02,
          2019.03,
          2019.04,
          2019.05,
          2019.06,
          2019.07,
          2019.08,
          2019.09,
          2019.1,
          2019.11,
          2019.12,
          2019.13,
          2019.14,
          2019.15,
          2019.16,
          2019.17,
          2019.18,
          2019.19,
          2019.2,
          2019.21,
          2019.22,
          2019.23,
          2019.24,
          2019.25,
          2019.26,
          2019.27,
          2019.28,
          2019.29,
          2019.3,
          2019.31,
          2019.32,
          2019.33,
          2019.34,
          2019.35,
          2019.36,
          2019.37,
          2019.38,
          2019.39,
          2019.4,
          2019.41,
          2019.42,
          2019.43,
          2019.44,
          2019.45,
          2019.46,
          2019.47,
          2019.48,
          2019.49,
          2019.5,
          2019.51,
          2019.52,
          2019.53,
          2019.54,
          2019.55,
          2019.56,
          2019.57,
          2019.58,
          2019.59,
          2019.6,
          2019.61,
          2019.62,
          2019.63,
          2019.64,
          2019.65,
          2019.66,
          2019.67,
          2019.68,
          2019.69,
          2019.7,
          2019.71,
          2019.72,
          2019.73,
          2019.74,
          2019.75,
          2019.76,
          2019.77,
          2019.78,
          2019.79,
          2019.8,
          2019.81,
          2019.82,
          2019.83,
          2019.84,
          2019.85,
          2019.86,
          2019.87,
          2019.88,
          2019.89,
          2019.9,
          2019.91,
          2019.92,
          2019.93,
          2019.94,
          2019.95,
          2019.96,
          2019.97,
          2019.98,
          2019.99,
          2020,
          2020.01,
          2020.02,
          2020.03,
          2020.04,
          2020.05,
          2020.06,
          2020.07,
          2020.08,
          2020.09,
          2020.1,
          2020.11,
          2020.12,
          2020.13,
          2020.14,
          2020.15,
          2020.16,
          2020.17,
          2020.18,
          2020.19,
          2020.2,
          2020.21,
          2020.22,
          2020.23,
          2020.24,
          2020.25,
          2020.26,
          2020.27,
          2020.28,
          2020.29,
          2020.3,
          2020.31,
          2020.32,
          2020.33,
          2020.34,
          2020.35,
          2020.36,
          2020.37,
          2020.38,
          2020.39,
          2020.4,
          2020.41,
          2020.42,
          2020.43,
          2020.44,
          2020.45,
          2020.46,
          2020.47,
          2020.48,
          2020.49,
          2020.5,
          2020.51,
          2020.52,
          2020.53,
          2020.54,
          2020.55,
          2020.56,
          2020.57,
          2020.58,
          2020.59,
          2020.6,
          2020.61,
          2020.62,
          2020.63,
          2020.64,
          2020.65,
          2020.66,
          2020.67,
          2020.68,
          2020.69,
          2020.7,
          2020.71,
          2020.72,
          2020.73,
          2020.74,
          2020.75,
          2020.76,
          2020.77,
          2020.78,
          2020.79,
          2020.8,
          2020.81,
          2020.82,
          2020.83,
          2020.84,
          2020.85,
          2020.86,
          2020.87,
          2020.88,
          2020.89,
          2020.9,
          2020.91,
          2020.92,
          2020.93,
          2020.94,
          2020.95,
          2020.96,
          2020.97,
          2020.98,
          2020.99,
          2021,
          2021.01,
          2021.02,
          2021.03,
          2021.04,
          2021.05,
          2021.06,
          2021.07,
          2021.08,
          2021.09,
          2021.1,
          2021.11,
          2021.12,
          2021.13,
          2021.14,
          2021.15,
          2021.16,
          2021.17,
          2021.18,
          2021.19,
          2021.2,
          2021.21,
          2021.22,
          2021.23,
          2021.24,
          2021.25,
          2021.26,
          2021.27,
          2021.28,
          2021.29,
          2021.3,
          2021.31,
          2021.32,
          2021.33,
          2021.34,
          2021.35,
          2021.36,
          2021.37,
          2021.38,
          2021.39,
          2021.4,
          2021.41,
          2021.42,
          2021.43,
          2021.44,
          2021.45,
          2021.46,
          2021.47,
          2021.48,
          2021.49,
          2021.5,
          2021.51,
          2021.52,
          2021.53,
          2021.54,
          2021.55,
          2021.56,
          2021.57,
          2021.58,
          2021.59,
          2021.6,
          2021.61,
          2021.62,
          2021.63,
          2021.64,
          2021.65,
          2021.66,
          2021.67,
          2021.68,
          2021.69,
          2021.7,
          2021.71,
          2021.72,
          2021.73,
          2021.74,
          2021.75,
          2021.76,
          2021.77,
          2021.78,
          2021.79,
          2021.8,
          2021.81,
          2021.82,
          2021.83,
          2021.84,
          2021.85,
          2021.86,
          2021.87,
          2021.88,
          2021.89,
          2021.9,
          2021.91,
          2021.92,
          2021.93,
          2021.94,
          2021.95,
          2021.96,
          2021.97,
          2021.98,
          2021.99,
          2022,
          2022.01,
          2022.02,
          2022.03,
          2022.04,
          2022.05,
          2022.06,
          2022.07,
          2022.08,
          2022.09,
          2022.1,
          2022.11,
          2022.12,
          2022.13,
          2022.14,
          2022.15,
          2022.16,
          2022.17,
          2022.18,
          2022.19,
          2022.2,
          2022.21,
          2022.22,
          2022.23,
          2022.24,
          2022.25,
          2022.26,
          2022.27,
          2022.28,
          2022.29,
          2022.3,
          2022.31,
          2022.32,
          2022.33,
          2022.34,
          2022.35,
          2022.36,
          2022.37,
          2022.38,
          2022.39,
          2022.4,
          2022.41,
          2022.42,
          2022.43,
          2022.44,
          2022.45,
          2022.46,
          2022.47,
          2022.48,
          2022.49,
          2022.5,
          2022.51,
          2022.52,
          2022.53,
          2022.54,
          2022.55,
          2022.56,
          2022.57,
          2022.58,
          2022.59,
          2022.6,
          2022.61,
          2022.62,
          2022.63,
          2022.64,
          2022.65,
          2022.66,
          2022.67,
          2022.68,
          2022.69,
          2022.7,
          2022.71,
          2022.72,
          2022.73,
          2022.74,
          2022.75,
          2022.76,
          2022.77,
          2022.78,
          2022.79,
          2022.8,
          2022.81,
          2022.82,
          2022.83,
          2022.84,
          2022.85,
          2022.86,
          2022.87,
          2022.88,
          2022.89,
          2022.9,
          2022.91,
          2022.92,
          2022.93,
          2022.94,
          2022.95,
          2022.96,
          2022.97,
          2022.98,
          2022.99
         ],
         "xaxis": "x",
         "y": [
          0.0386307335441065,
          0.03862756896127035,
          0.0385810836503611,
          0.03849174141639139,
          0.03836018441252572,
          0.038187231761047435,
          0.03797387725161996,
          0.037721286136981856,
          0.03743079105264342,
          0.03710388709325761,
          0.036742226083913414,
          0.03634761008990957,
          0.03592198421283988,
          0.035467428725075745,
          0.03498615059799794,
          0.034480474481725414,
          0.03395283319678426,
          0.03340575779863718,
          0.03284186727734831,
          0.03226385795433,
          0.0316744926376053,
          0.031076589595682706,
          0.030473011408685906,
          0.02986665375254426,
          0.029260434169852585,
          0.028657280877538608,
          0.028060121658136115,
          0.027471872877605878,
          0.026895428669066423,
          0.02633365031721433,
          0.02578935587470225,
          0.02526531003737726,
          0.02476421430147565,
          0.024288697422006296,
          0.0238413061883061,
          0.02342449652905558,
          0.023040624956616636,
          0.02269194035776955,
          0.02238057613593478,
          0.022108542708317178,
          0.02187772036023696,
          0.021689852458219267,
          0.021546539023188226,
          0.021449230665354077,
          0.021399222883050524,
          0.02139765072892055,
          0.02144548384823556,
          0.02154352189602562,
          0.021692390341715037,
          0.021892536672268023,
          0.022144227007329716,
          0.022447543142259958,
          0.022802380037679093,
          0.023208443776435796,
          0.023665250011339192,
          0.024172122929062134,
          0.024728194757544644,
          0.025332405845403517,
          0.025983505343358002,
          0.026680052517767994,
          0.027420418726668287,
          0.028202790087987976,
          0.029025170868623624,
          0.02988538762075546,
          0.030781094089866318,
          0.031709776915494696,
          0.03266876214151927,
          0.03365522254909414,
          0.03466618581926701,
          0.0356985435276429,
          0.03674906096633153,
          0.037814387782237044,
          0.03889106941345122,
          0.039975559298308226,
          0.04106423182341231,
          0.04215339597014938,
          0.04323930961035942,
          0.04431819439467122,
          0.04538625116917919,
          0.04643967584901681,
          0.04747467566985969,
          0.04848748573290441,
          0.04947438575199841,
          0.050431716906999,
          0.05135589870277585,
          0.05224344572988992,
          0.05309098421979782,
          0.05389526828659886,
          0.05465319574583296,
          0.055361823401610326,
          0.05601838169505512,
          0.05662028860903867,
          0.0571651627281833,
          0.05765083535798783,
          0.058075361612178446,
          0.058437030384467084,
          0.058734373128368565,
          0.058966171377262754,
          0.05913146294595431,
          0.059229546765118934,
          0.05925998631018252,
          0.05922261159721917,
          0.059117519729584116,
          0.05894507399037587,
          0.05870590148735384,
          0.05840088936821704,
          0.058031179635492335,
          0.05759816260111542,
          0.05710346903132657,
          0.05654896104233114,
          0.05593672181676137,
          0.05526904421907274,
          0.054548418396158135,
          0.053777518456020273,
          0.05295918832325146,
          0.05209642687487286,
          0.05119237246380289,
          0.050250286939909655,
          0.04927353928013296,
          0.04826558893965781,
          0.04722996903533466,
          0.04617026947141275,
          0.04509012011411534,
          0.04399317411885642,
          0.04288309150892652,
          0.04176352309936705,
          0.040638094853551826,
          0.03951039275400457,
          0.038383948260794984,
          0.037262224424339685,
          0.03614860271093278,
          0.035046370591471164,
          0.03395870993541846,
          0.03288868624443894,
          0.03183923875103258,
          0.030813171400581124,
          0.029813144726984327,
          0.028841668625005548,
          0.027901096015392958,
          0.026993617393197424,
          0.02612125624251792,
          0.025285865297509442,
          0.024489123623523776,
          0.02373253448896925,
          0.02301742399547989,
          0.02234494043075842,
          0.02171605430733895,
          0.021131559048860517,
          0.02059207228502045,
          0.020098037716286037,
          0.019649727510276816,
          0.019247245192308176,
          0.018890528994584783,
          0.01857935563011293,
          0.01831334445972362,
          0.01809196202299037,
          0.01791452690662362,
          0.0177802149264472,
          0.017688064602135088,
          0.01763698290654394,
          0.017625751274280132,
          0.01765303185673248,
          0.017717374013247748,
          0.017817221030325014,
          0.01795091706262652,
          0.018116714291297763,
          0.01831278029632904,
          0.01853720564065161,
          0.01878801166436791,
          0.019063158487622828,
          0.01936055322058734,
          0.01967805837851988,
          0.0200135004991435,
          0.02036467895827671,
          0.020729374978576087,
          0.02110536082431169,
          0.021490409173441114,
          0.02188230265615602,
          0.022278843547047976,
          0.022677863595592644,
          0.023077233977794914,
          0.02347487534923906,
          0.023868767977846848,
          0.024256961932492858,
          0.024637587301788,
          0.02500886441536261,
          0.02536911403880207,
          0.025716767511697845,
          0.026050376797415026,
          0.02636862441229842,
          0.026670333201483338,
          0.02695447592820761,
          0.027220184643471642,
          0.027466759803113173,
          0.027693679099798942,
          0.027900605978073586,
          0.028087397801303496,
          0.028254113640450294,
          0.02840102165540201,
          0.02852860604074236,
          0.028637573508840202,
          0.02872885928409602,
          0.028803632583018306,
          0.028863301555610118,
          0.02890951766393871,
          0.028944179474124924,
          0.028969435837967787,
          0.028987688440130097,
          0.029001593686174828,
          0.029014063905817934,
          0.02902826784443303,
          0.029047630414208634,
          0.029075831674417473,
          0.02911680500797814,
          0.02917473445897078,
          0.029254051193098842,
          0.02935942904014719,
          0.029495779074622707,
          0.02966824318780195,
          0.029882186601638012,
          0.030143189272280945,
          0.030457036128843124,
          0.030829706091043692,
          0.031267359808172086,
          0.03177632606117737,
          0.03236308677000013,
          0.03303426054911672,
          0.033796584756952706,
          0.03465689598771509,
          0.03562210895910704,
          0.03669919375527493,
          0.037895151392008664,
          0.0392169876795546,
          0.04067168536990665,
          0.04226617458656294,
          0.044007301548937866,
          0.045901795618619894,
          0.047956234711748064,
          0.05017700913892274,
          0.05257028395483616,
          0.05514195991998243,
          0.057897633197344374,
          0.060842553931656745,
          0.06398158387923077,
          0.06731915328274668,
          0.07085921720635381,
          0.07460521157130252,
          0.07856000915456136,
          0.0827258758356856,
          0.08710442739583353,
          0.0916965871958434,
          0.09650254507402835,
          0.10152171782187044,
          0.10675271160750106,
          0.11219328672787887,
          0.11784032507419864,
          0.1236898007030775,
          0.1297367539006958,
          0.13597526912535665,
          0.14239845720414368,
          0.14899844214769753,
          0.15576635292615604,
          0.16269232053351101,
          0.16976548063558597,
          0.1769739820683709,
          0.18430500142265663,
          0.19174476390173678,
          0.19927857060941137,
          0.20689083236880101,
          0.21456511012849525,
          0.22228416195871092,
          0.2300299965875965,
          0.23778393336726902,
          0.24552666850933375,
          0.2532383473643796,
          0.26089864246662037,
          0.26848683700588716,
          0.275981913334991,
          0.28336264606238276,
          0.29060769923566854,
          0.2976957270666466,
          0.30460547760841034,
          0.31131589875398635,
          0.31780624589262424,
          0.32405619052693496,
          0.33004592913726266,
          0.33575629155622794,
          0.3411688481102745,
          0.34626601477992747,
          0.3510311556346777,
          0.35544868180881417,
          0.35950414630231753,
          0.3631843339156459,
          0.36647734565842144,
          0.36937267701072135,
          0.37186128945749514,
          0.37393567476954925,
          0.37558991155595844,
          0.3768197136739392,
          0.3776224701447379,
          0.3779972762903666,
          0.3779449558746714,
          0.37746807410288946,
          0.37657094140473996,
          0.37525960799748526,
          0.37354184929613476,
          0.37142714230639395,
          0.36892663320379177,
          0.3660530963643336,
          0.3628208851736055,
          0.3592458749957279,
          0.3553453987347236,
          0.3511381754650042,
          0.3466442326493651,
          0.34188482249288243,
          0.33688233300906906,
          0.33166019439693745,
          0.32624278133645856,
          0.32065531182228596,
          0.3149237431502348,
          0.30907466566997616,
          0.3031351949029366,
          0.29713286260796273,
          0.2910955073536316,
          0.28505116513245765,
          0.2790279605156342,
          0.27305399881810427,
          0.2671572597034906,
          0.26136549262047776,
          0.255706114421876,
          0.25020610947592353,
          0.2448919325416662,
          0.2397894146353254,
          0.2349236720815937,
          0.23031901890414105,
          0.22599888267782622,
          0.22198572393332247,
          0.21830095918095824,
          0.21496488759374371,
          0.21199662137556183,
          0.2094140198227251,
          0.20723362708078547,
          0.2054706135920571,
          0.20413872122845741,
          0.20325021210994063,
          0.20281582111572274,
          0.20284471210748148,
          0.20334443789905404,
          0.20432090402491376,
          0.20577833637997284,
          0.20771925282516523,
          0.21014443887623702,
          0.21305292761623237,
          0.2164419839958488,
          0.22030709370584592,
          0.22464195682875346,
          0.22943848649190782,
          0.23468681276015005,
          0.24037529201662938,
          0.24649052208774472,
          0.2530173633669302,
          0.2599389661936326,
          0.2672368047295022,
          0.27489071756192823,
          0.2828789552429469,
          0.29117823494454415,
          0.2997638023781825,
          0.3086095010870066,
          0.3176878491744851,
          0.3269701234825032,
          0.33642645117868514,
          0.34602590864771915,
          0.35573662752692853,
          0.3655259076514483,
          0.37536033661066887,
          0.3852059155460304,
          0.3950281907515694,
          0.4047923905633334,
          0.41446356696430675,
          0.4240067412560672,
          0.4333870530911786,
          0.4425699120996829,
          0.4515211512916992,
          0.46020718136583544,
          0.4685951450213484,
          0.4766530703308535,
          0.48435002221075074,
          0.49165625100954635,
          0.49854333722924865,
          0.5049843313929762,
          0.5109538880957871,
          0.5164283932848662,
          0.5213860838587269,
          0.5258071587124508,
          0.529673880406714,
          0.532970666702681,
          0.5356841712690752,
          0.5378033529465842,
          0.5393195330369424,
          0.5402264401732874,
          0.5405202424215835,
          0.5401995663623511,
          0.5392655030009714,
          0.5377216004587775,
          0.5355738434995818,
          0.5328306200487959,
          0.5295026749645377,
          0.5256030514158828,
          0.5211470203199006,
          0.5161519983769642,
          0.5106374553279237,
          0.5046248111317767,
          0.49813732383523873,
          0.49119996896012474,
          0.48383931129355345,
          0.47608337000120865,
          0.4679614780234866,
          0.459504136734704,
          0.4507428668559142,
          0.44171005662119545,
          0.43243880818666686,
          0.4229627832582533,
          0.41331604888729256,
          0.40353292435616905,
          0.39364783002634,
          0.3836951389828003,
          0.37370903224985713,
          0.3637233582959058,
          0.3537714974795095,
          0.3438862320271524,
          0.33409962205441723,
          0.3244428880802505,
          0.3149463004063652,
          0.30563907566467197,
          0.2965492807628939,
          0.287703744395671,
          0.2791279762141883,
          0.2708460936941967,
          0.26288075667928285,
          0.25525310952664165,
          0.24798273072919605,
          0.24108758985724343,
          0.23458401161245226,
          0.2284866467684521,
          0.22280844974257047,
          0.21756066252725545,
          0.21275280469647542,
          0.20839266919922494,
          0.20448632364639835,
          0.20103811680644204,
          0.19805069003068673,
          0.19552499334315523,
          0.19346030594479657,
          0.19185426090242713,
          0.1907028738110643,
          0.1900005752431376,
          0.18974024681958454,
          0.18991326076154985,
          0.1905095228040072,
          0.19151751837383216,
          0.19292436195467166,
          0.19471584957825547,
          0.19687651439614784,
          0.19938968529737738,
          0.20223754854501824,
          0.2054012124086124,
          0.20886077476931003,
          0.21259539367000507,
          0.21658336077448537,
          0.2208021776874276,
          0.22522863506850554,
          0.2298388944572126,
          0.23460857269741714,
          0.2395128288263036,
          0.24452645326180872,
          0.24962395909222942,
          0.2547796752356584,
          0.2599678412073065,
          0.26516270319360136,
          0.2703386111003333,
          0.2754701162075099,
          0.28053206903277594,
          0.28549971697255555,
          0.29034880126769963,
          0.29505565281208157,
          0.29959728630547944,
          0.3039514922355821,
          0.3080969261641161,
          0.3120131947844962,
          0.3156809382211465,
          0.31908190804480197,
          0.3221990404877957,
          0.3250165243640328,
          0.3275198632175499,
          0.32969593125569013,
          0.33153302265415074,
          0.33302089386211486,
          0.33415079857927144,
          0.3349155151252941,
          0.3353093659741602
         ],
         "yaxis": "y"
        }
       ],
       "layout": {
        "barmode": "overlay",
        "font": {
         "size": 18
        },
        "hovermode": "closest",
        "legend": {
         "traceorder": "reversed"
        },
        "plot_bgcolor": "#F5F5F8",
        "template": {
         "data": {
          "bar": [
           {
            "error_x": {
             "color": "#2a3f5f"
            },
            "error_y": {
             "color": "#2a3f5f"
            },
            "marker": {
             "line": {
              "color": "#E5ECF6",
              "width": 0.5
             },
             "pattern": {
              "fillmode": "overlay",
              "size": 10,
              "solidity": 0.2
             }
            },
            "type": "bar"
           }
          ],
          "barpolar": [
           {
            "marker": {
             "line": {
              "color": "#E5ECF6",
              "width": 0.5
             },
             "pattern": {
              "fillmode": "overlay",
              "size": 10,
              "solidity": 0.2
             }
            },
            "type": "barpolar"
           }
          ],
          "carpet": [
           {
            "aaxis": {
             "endlinecolor": "#2a3f5f",
             "gridcolor": "white",
             "linecolor": "white",
             "minorgridcolor": "white",
             "startlinecolor": "#2a3f5f"
            },
            "baxis": {
             "endlinecolor": "#2a3f5f",
             "gridcolor": "white",
             "linecolor": "white",
             "minorgridcolor": "white",
             "startlinecolor": "#2a3f5f"
            },
            "type": "carpet"
           }
          ],
          "choropleth": [
           {
            "colorbar": {
             "outlinewidth": 0,
             "ticks": ""
            },
            "type": "choropleth"
           }
          ],
          "contour": [
           {
            "colorbar": {
             "outlinewidth": 0,
             "ticks": ""
            },
            "colorscale": [
             [
              0,
              "#0d0887"
             ],
             [
              0.1111111111111111,
              "#46039f"
             ],
             [
              0.2222222222222222,
              "#7201a8"
             ],
             [
              0.3333333333333333,
              "#9c179e"
             ],
             [
              0.4444444444444444,
              "#bd3786"
             ],
             [
              0.5555555555555556,
              "#d8576b"
             ],
             [
              0.6666666666666666,
              "#ed7953"
             ],
             [
              0.7777777777777778,
              "#fb9f3a"
             ],
             [
              0.8888888888888888,
              "#fdca26"
             ],
             [
              1,
              "#f0f921"
             ]
            ],
            "type": "contour"
           }
          ],
          "contourcarpet": [
           {
            "colorbar": {
             "outlinewidth": 0,
             "ticks": ""
            },
            "type": "contourcarpet"
           }
          ],
          "heatmap": [
           {
            "colorbar": {
             "outlinewidth": 0,
             "ticks": ""
            },
            "colorscale": [
             [
              0,
              "#0d0887"
             ],
             [
              0.1111111111111111,
              "#46039f"
             ],
             [
              0.2222222222222222,
              "#7201a8"
             ],
             [
              0.3333333333333333,
              "#9c179e"
             ],
             [
              0.4444444444444444,
              "#bd3786"
             ],
             [
              0.5555555555555556,
              "#d8576b"
             ],
             [
              0.6666666666666666,
              "#ed7953"
             ],
             [
              0.7777777777777778,
              "#fb9f3a"
             ],
             [
              0.8888888888888888,
              "#fdca26"
             ],
             [
              1,
              "#f0f921"
             ]
            ],
            "type": "heatmap"
           }
          ],
          "heatmapgl": [
           {
            "colorbar": {
             "outlinewidth": 0,
             "ticks": ""
            },
            "colorscale": [
             [
              0,
              "#0d0887"
             ],
             [
              0.1111111111111111,
              "#46039f"
             ],
             [
              0.2222222222222222,
              "#7201a8"
             ],
             [
              0.3333333333333333,
              "#9c179e"
             ],
             [
              0.4444444444444444,
              "#bd3786"
             ],
             [
              0.5555555555555556,
              "#d8576b"
             ],
             [
              0.6666666666666666,
              "#ed7953"
             ],
             [
              0.7777777777777778,
              "#fb9f3a"
             ],
             [
              0.8888888888888888,
              "#fdca26"
             ],
             [
              1,
              "#f0f921"
             ]
            ],
            "type": "heatmapgl"
           }
          ],
          "histogram": [
           {
            "marker": {
             "pattern": {
              "fillmode": "overlay",
              "size": 10,
              "solidity": 0.2
             }
            },
            "type": "histogram"
           }
          ],
          "histogram2d": [
           {
            "colorbar": {
             "outlinewidth": 0,
             "ticks": ""
            },
            "colorscale": [
             [
              0,
              "#0d0887"
             ],
             [
              0.1111111111111111,
              "#46039f"
             ],
             [
              0.2222222222222222,
              "#7201a8"
             ],
             [
              0.3333333333333333,
              "#9c179e"
             ],
             [
              0.4444444444444444,
              "#bd3786"
             ],
             [
              0.5555555555555556,
              "#d8576b"
             ],
             [
              0.6666666666666666,
              "#ed7953"
             ],
             [
              0.7777777777777778,
              "#fb9f3a"
             ],
             [
              0.8888888888888888,
              "#fdca26"
             ],
             [
              1,
              "#f0f921"
             ]
            ],
            "type": "histogram2d"
           }
          ],
          "histogram2dcontour": [
           {
            "colorbar": {
             "outlinewidth": 0,
             "ticks": ""
            },
            "colorscale": [
             [
              0,
              "#0d0887"
             ],
             [
              0.1111111111111111,
              "#46039f"
             ],
             [
              0.2222222222222222,
              "#7201a8"
             ],
             [
              0.3333333333333333,
              "#9c179e"
             ],
             [
              0.4444444444444444,
              "#bd3786"
             ],
             [
              0.5555555555555556,
              "#d8576b"
             ],
             [
              0.6666666666666666,
              "#ed7953"
             ],
             [
              0.7777777777777778,
              "#fb9f3a"
             ],
             [
              0.8888888888888888,
              "#fdca26"
             ],
             [
              1,
              "#f0f921"
             ]
            ],
            "type": "histogram2dcontour"
           }
          ],
          "mesh3d": [
           {
            "colorbar": {
             "outlinewidth": 0,
             "ticks": ""
            },
            "type": "mesh3d"
           }
          ],
          "parcoords": [
           {
            "line": {
             "colorbar": {
              "outlinewidth": 0,
              "ticks": ""
             }
            },
            "type": "parcoords"
           }
          ],
          "pie": [
           {
            "automargin": true,
            "type": "pie"
           }
          ],
          "scatter": [
           {
            "fillpattern": {
             "fillmode": "overlay",
             "size": 10,
             "solidity": 0.2
            },
            "type": "scatter"
           }
          ],
          "scatter3d": [
           {
            "line": {
             "colorbar": {
              "outlinewidth": 0,
              "ticks": ""
             }
            },
            "marker": {
             "colorbar": {
              "outlinewidth": 0,
              "ticks": ""
             }
            },
            "type": "scatter3d"
           }
          ],
          "scattercarpet": [
           {
            "marker": {
             "colorbar": {
              "outlinewidth": 0,
              "ticks": ""
             }
            },
            "type": "scattercarpet"
           }
          ],
          "scattergeo": [
           {
            "marker": {
             "colorbar": {
              "outlinewidth": 0,
              "ticks": ""
             }
            },
            "type": "scattergeo"
           }
          ],
          "scattergl": [
           {
            "marker": {
             "colorbar": {
              "outlinewidth": 0,
              "ticks": ""
             }
            },
            "type": "scattergl"
           }
          ],
          "scattermapbox": [
           {
            "marker": {
             "colorbar": {
              "outlinewidth": 0,
              "ticks": ""
             }
            },
            "type": "scattermapbox"
           }
          ],
          "scatterpolar": [
           {
            "marker": {
             "colorbar": {
              "outlinewidth": 0,
              "ticks": ""
             }
            },
            "type": "scatterpolar"
           }
          ],
          "scatterpolargl": [
           {
            "marker": {
             "colorbar": {
              "outlinewidth": 0,
              "ticks": ""
             }
            },
            "type": "scatterpolargl"
           }
          ],
          "scatterternary": [
           {
            "marker": {
             "colorbar": {
              "outlinewidth": 0,
              "ticks": ""
             }
            },
            "type": "scatterternary"
           }
          ],
          "surface": [
           {
            "colorbar": {
             "outlinewidth": 0,
             "ticks": ""
            },
            "colorscale": [
             [
              0,
              "#0d0887"
             ],
             [
              0.1111111111111111,
              "#46039f"
             ],
             [
              0.2222222222222222,
              "#7201a8"
             ],
             [
              0.3333333333333333,
              "#9c179e"
             ],
             [
              0.4444444444444444,
              "#bd3786"
             ],
             [
              0.5555555555555556,
              "#d8576b"
             ],
             [
              0.6666666666666666,
              "#ed7953"
             ],
             [
              0.7777777777777778,
              "#fb9f3a"
             ],
             [
              0.8888888888888888,
              "#fdca26"
             ],
             [
              1,
              "#f0f921"
             ]
            ],
            "type": "surface"
           }
          ],
          "table": [
           {
            "cells": {
             "fill": {
              "color": "#EBF0F8"
             },
             "line": {
              "color": "white"
             }
            },
            "header": {
             "fill": {
              "color": "#C8D4E3"
             },
             "line": {
              "color": "white"
             }
            },
            "type": "table"
           }
          ]
         },
         "layout": {
          "annotationdefaults": {
           "arrowcolor": "#2a3f5f",
           "arrowhead": 0,
           "arrowwidth": 1
          },
          "autotypenumbers": "strict",
          "coloraxis": {
           "colorbar": {
            "outlinewidth": 0,
            "ticks": ""
           }
          },
          "colorscale": {
           "diverging": [
            [
             0,
             "#8e0152"
            ],
            [
             0.1,
             "#c51b7d"
            ],
            [
             0.2,
             "#de77ae"
            ],
            [
             0.3,
             "#f1b6da"
            ],
            [
             0.4,
             "#fde0ef"
            ],
            [
             0.5,
             "#f7f7f7"
            ],
            [
             0.6,
             "#e6f5d0"
            ],
            [
             0.7,
             "#b8e186"
            ],
            [
             0.8,
             "#7fbc41"
            ],
            [
             0.9,
             "#4d9221"
            ],
            [
             1,
             "#276419"
            ]
           ],
           "sequential": [
            [
             0,
             "#0d0887"
            ],
            [
             0.1111111111111111,
             "#46039f"
            ],
            [
             0.2222222222222222,
             "#7201a8"
            ],
            [
             0.3333333333333333,
             "#9c179e"
            ],
            [
             0.4444444444444444,
             "#bd3786"
            ],
            [
             0.5555555555555556,
             "#d8576b"
            ],
            [
             0.6666666666666666,
             "#ed7953"
            ],
            [
             0.7777777777777778,
             "#fb9f3a"
            ],
            [
             0.8888888888888888,
             "#fdca26"
            ],
            [
             1,
             "#f0f921"
            ]
           ],
           "sequentialminus": [
            [
             0,
             "#0d0887"
            ],
            [
             0.1111111111111111,
             "#46039f"
            ],
            [
             0.2222222222222222,
             "#7201a8"
            ],
            [
             0.3333333333333333,
             "#9c179e"
            ],
            [
             0.4444444444444444,
             "#bd3786"
            ],
            [
             0.5555555555555556,
             "#d8576b"
            ],
            [
             0.6666666666666666,
             "#ed7953"
            ],
            [
             0.7777777777777778,
             "#fb9f3a"
            ],
            [
             0.8888888888888888,
             "#fdca26"
            ],
            [
             1,
             "#f0f921"
            ]
           ]
          },
          "colorway": [
           "#636efa",
           "#EF553B",
           "#00cc96",
           "#ab63fa",
           "#FFA15A",
           "#19d3f3",
           "#FF6692",
           "#B6E880",
           "#FF97FF",
           "#FECB52"
          ],
          "font": {
           "color": "#2a3f5f"
          },
          "geo": {
           "bgcolor": "white",
           "lakecolor": "white",
           "landcolor": "#E5ECF6",
           "showlakes": true,
           "showland": true,
           "subunitcolor": "white"
          },
          "hoverlabel": {
           "align": "left"
          },
          "hovermode": "closest",
          "mapbox": {
           "style": "light"
          },
          "paper_bgcolor": "white",
          "plot_bgcolor": "#E5ECF6",
          "polar": {
           "angularaxis": {
            "gridcolor": "white",
            "linecolor": "white",
            "ticks": ""
           },
           "bgcolor": "#E5ECF6",
           "radialaxis": {
            "gridcolor": "white",
            "linecolor": "white",
            "ticks": ""
           }
          },
          "scene": {
           "xaxis": {
            "backgroundcolor": "#E5ECF6",
            "gridcolor": "white",
            "gridwidth": 2,
            "linecolor": "white",
            "showbackground": true,
            "ticks": "",
            "zerolinecolor": "white"
           },
           "yaxis": {
            "backgroundcolor": "#E5ECF6",
            "gridcolor": "white",
            "gridwidth": 2,
            "linecolor": "white",
            "showbackground": true,
            "ticks": "",
            "zerolinecolor": "white"
           },
           "zaxis": {
            "backgroundcolor": "#E5ECF6",
            "gridcolor": "white",
            "gridwidth": 2,
            "linecolor": "white",
            "showbackground": true,
            "ticks": "",
            "zerolinecolor": "white"
           }
          },
          "shapedefaults": {
           "line": {
            "color": "#2a3f5f"
           }
          },
          "ternary": {
           "aaxis": {
            "gridcolor": "white",
            "linecolor": "white",
            "ticks": ""
           },
           "baxis": {
            "gridcolor": "white",
            "linecolor": "white",
            "ticks": ""
           },
           "bgcolor": "#E5ECF6",
           "caxis": {
            "gridcolor": "white",
            "linecolor": "white",
            "ticks": ""
           }
          },
          "title": {
           "x": 0.05
          },
          "xaxis": {
           "automargin": true,
           "gridcolor": "white",
           "linecolor": "white",
           "ticks": "",
           "title": {
            "standoff": 15
           },
           "zerolinecolor": "white",
           "zerolinewidth": 2
          },
          "yaxis": {
           "automargin": true,
           "gridcolor": "white",
           "linecolor": "white",
           "ticks": "",
           "title": {
            "standoff": 15
           },
           "zerolinecolor": "white",
           "zerolinewidth": 2
          }
         }
        },
        "title": {
         "text": "Real vs. Synthetic Data for column 'Year of insertion'"
        },
        "xaxis": {
         "anchor": "y2",
         "domain": [
          0,
          1
         ],
         "title": {
          "text": "Value"
         },
         "zeroline": false
        },
        "yaxis": {
         "anchor": "free",
         "domain": [
          0,
          1
         ],
         "position": 0,
         "title": {
          "text": "Frequency"
         }
        }
       }
      }
     },
     "metadata": {},
     "output_type": "display_data"
    }
   ],
   "source": [
    "from sdv.evaluation.single_table import run_diagnostic, evaluate_quality\n",
    "from sdv.evaluation.single_table import get_column_plot\n",
    "\n",
    "# 1. perform basic validity checks\n",
    "diagnostic = run_diagnostic(candidates, synthetic_data, metadata)\n",
    "\n",
    "# 2. measure the statistical similarity\n",
    "quality_report = evaluate_quality(candidates, synthetic_data, metadata)\n",
    "\n",
    "\n",
    "# 3. plot the data\n",
    "fig = get_column_plot(\n",
    "    real_data=candidates,\n",
    "    synthetic_data=synthetic_data,\n",
    "    metadata=metadata,\n",
    "    column_name='Year of insertion'\n",
    ")\n",
    "    \n",
    "fig.show()"
   ]
  },
  {
   "cell_type": "code",
   "execution_count": 177,
   "metadata": {},
   "outputs": [
    {
     "data": {
      "application/vnd.plotly.v1+json": {
       "config": {
        "plotlyServerURL": "https://plot.ly"
       },
       "data": [
        {
         "coloraxis": "coloraxis",
         "hovertemplate": "<b>Column Pair</b><br>(%{x},%{y})<br><br>Similarity: %{z}<extra></extra>",
         "type": "heatmap",
         "x": [
          "Candidate State",
          "Age Range",
          "Sex",
          "Protected category",
          "Study area",
          "Study Title",
          "Years Experience",
          "Sector",
          "Year of insertion",
          "Year of Recruitment",
          "Assumption Headquarters",
          "Job Family Hiring",
          "Job Title Hiring",
          "Years Experience.1",
          "Minimum Ral",
          "Ral Maximum",
          "Study Level",
          "Study Area.1",
          "Akkodis headquarters",
          "Current Ral",
          "Expected Ral",
          "Region"
         ],
         "xaxis": "x",
         "y": [
          "Candidate State",
          "Age Range",
          "Sex",
          "Protected category",
          "Study area",
          "Study Title",
          "Years Experience",
          "Sector",
          "Year of insertion",
          "Year of Recruitment",
          "Assumption Headquarters",
          "Job Family Hiring",
          "Job Title Hiring",
          "Years Experience.1",
          "Minimum Ral",
          "Ral Maximum",
          "Study Level",
          "Study Area.1",
          "Akkodis headquarters",
          "Current Ral",
          "Expected Ral",
          "Region"
         ],
         "yaxis": "y",
         "z": [
          [
           1,
           0.784,
           0.961,
           0.959,
           0.789,
           0.85,
           0.817,
           0.723,
           0.801,
           0.909,
           0.916,
           0.912,
           0.92,
           0.92,
           0.941,
           0.933,
           0.922,
           0.915,
           0.922,
           0.905,
           0.904,
           0.76
          ],
          [
           0.784,
           1,
           0.948,
           0.955,
           0.775,
           0.753,
           0.767,
           0.763,
           0.816,
           0.937,
           0.937,
           0.935,
           0.932,
           0.943,
           0.947,
           0.947,
           0.943,
           0.931,
           0.934,
           0.915,
           0.917,
           0.787
          ],
          [
           0.961,
           0.948,
           1,
           0.993,
           0.849,
           0.961,
           0.964,
           0.945,
           0.865,
           0.969,
           0.985,
           0.989,
           0.985,
           0.986,
           0.989,
           0.987,
           0.988,
           0.976,
           0.986,
           0.98,
           0.98,
           0.946
          ],
          [
           0.959,
           0.955,
           0.993,
           1,
           0.926,
           0.99,
           0.976,
           0.968,
           0.863,
           0.982,
           0.987,
           0.995,
           0.985,
           0.993,
           0.991,
           0.992,
           0.995,
           0.982,
           0.989,
           0.985,
           0.984,
           0.965
          ],
          [
           0.789,
           0.775,
           0.849,
           0.926,
           1,
           0.741,
           0.813,
           0.726,
           0.773,
           0.905,
           0.908,
           0.915,
           0.903,
           0.909,
           0.922,
           0.909,
           0.911,
           0.898,
           0.911,
           0.881,
           0.884,
           0.688
          ],
          [
           0.85,
           0.753,
           0.961,
           0.99,
           0.741,
           1,
           0.881,
           0.845,
           0.851,
           0.967,
           0.971,
           0.976,
           0.976,
           0.976,
           0.979,
           0.979,
           0.972,
           0.96,
           0.978,
           0.955,
           0.957,
           0.845
          ],
          [
           0.817,
           0.767,
           0.964,
           0.976,
           0.813,
           0.881,
           1,
           0.807,
           0.832,
           0.96,
           0.962,
           0.967,
           0.964,
           0.969,
           0.97,
           0.967,
           0.97,
           0.96,
           0.968,
           0.935,
           0.939,
           0.811
          ],
          [
           0.723,
           0.763,
           0.945,
           0.968,
           0.726,
           0.845,
           0.807,
           1,
           0.798,
           0.938,
           0.939,
           0.944,
           0.943,
           0.954,
           0.961,
           0.949,
           0.952,
           0.933,
           0.947,
           0.908,
           0.908,
           0.744
          ],
          [
           0.801,
           0.816,
           0.865,
           0.863,
           0.773,
           0.851,
           0.832,
           0.798,
           1,
           0.909,
           0.835,
           0.836,
           0.837,
           0.843,
           0.854,
           0.837,
           0.841,
           0.833,
           0.846,
           0.83,
           0.823,
           0.821
          ],
          [
           0.909,
           0.937,
           0.969,
           0.982,
           0.905,
           0.967,
           0.96,
           0.938,
           0.909,
           1,
           0.935,
           0.927,
           0.934,
           0.938,
           0.964,
           0.945,
           0.94,
           0.925,
           0.939,
           0.969,
           0.961,
           0.939
          ],
          [
           0.916,
           0.937,
           0.985,
           0.987,
           0.908,
           0.971,
           0.962,
           0.939,
           0.835,
           0.935,
           1,
           0.934,
           0.945,
           0.949,
           0.981,
           0.961,
           0.954,
           0.935,
           0.956,
           0.973,
           0.976,
           0.943
          ],
          [
           0.912,
           0.935,
           0.989,
           0.995,
           0.915,
           0.976,
           0.967,
           0.944,
           0.836,
           0.927,
           0.934,
           1,
           0.937,
           0.941,
           0.974,
           0.956,
           0.939,
           0.931,
           0.943,
           0.976,
           0.971,
           0.951
          ],
          [
           0.92,
           0.932,
           0.985,
           0.985,
           0.903,
           0.976,
           0.964,
           0.943,
           0.837,
           0.934,
           0.945,
           0.937,
           1,
           0.952,
           0.978,
           0.959,
           0.949,
           0.932,
           0.95,
           0.974,
           0.971,
           0.941
          ],
          [
           0.92,
           0.943,
           0.986,
           0.993,
           0.909,
           0.976,
           0.969,
           0.954,
           0.843,
           0.938,
           0.949,
           0.941,
           0.952,
           1,
           0.98,
           0.955,
           0.951,
           0.928,
           0.948,
           0.98,
           0.978,
           0.954
          ],
          [
           0.941,
           0.947,
           0.989,
           0.991,
           0.922,
           0.979,
           0.97,
           0.961,
           0.854,
           0.964,
           0.981,
           0.974,
           0.978,
           0.98,
           1,
           0.97,
           0.977,
           0.959,
           0.976,
           0.977,
           0.98,
           0.955
          ],
          [
           0.933,
           0.947,
           0.987,
           0.992,
           0.909,
           0.979,
           0.967,
           0.949,
           0.837,
           0.945,
           0.961,
           0.956,
           0.959,
           0.955,
           0.97,
           1,
           0.955,
           0.936,
           0.956,
           0.979,
           0.972,
           0.948
          ],
          [
           0.922,
           0.943,
           0.988,
           0.995,
           0.911,
           0.972,
           0.97,
           0.952,
           0.841,
           0.94,
           0.954,
           0.939,
           0.949,
           0.951,
           0.977,
           0.955,
           1,
           0.931,
           0.95,
           0.98,
           0.976,
           0.952
          ],
          [
           0.915,
           0.931,
           0.976,
           0.982,
           0.898,
           0.96,
           0.96,
           0.933,
           0.833,
           0.925,
           0.935,
           0.931,
           0.932,
           0.928,
           0.959,
           0.936,
           0.931,
           1,
           0.933,
           0.969,
           0.957,
           0.936
          ],
          [
           0.922,
           0.934,
           0.986,
           0.989,
           0.911,
           0.978,
           0.968,
           0.947,
           0.846,
           0.939,
           0.956,
           0.943,
           0.95,
           0.948,
           0.976,
           0.956,
           0.95,
           0.933,
           1,
           0.973,
           0.973,
           0.945
          ],
          [
           0.905,
           0.915,
           0.98,
           0.985,
           0.881,
           0.955,
           0.935,
           0.908,
           0.83,
           0.969,
           0.973,
           0.976,
           0.974,
           0.98,
           0.977,
           0.979,
           0.98,
           0.969,
           0.973,
           1,
           0.903,
           0.913
          ],
          [
           0.904,
           0.917,
           0.98,
           0.984,
           0.884,
           0.957,
           0.939,
           0.908,
           0.823,
           0.961,
           0.976,
           0.971,
           0.971,
           0.978,
           0.98,
           0.972,
           0.976,
           0.957,
           0.973,
           0.903,
           1,
           0.913
          ],
          [
           0.76,
           0.787,
           0.946,
           0.965,
           0.688,
           0.845,
           0.811,
           0.744,
           0.821,
           0.939,
           0.943,
           0.951,
           0.941,
           0.954,
           0.955,
           0.948,
           0.952,
           0.936,
           0.945,
           0.913,
           0.913,
           1
          ]
         ]
        },
        {
         "coloraxis": "coloraxis2",
         "customdata": [
          [
           1,
           0.898
          ],
          [
           0.898,
           1
          ]
         ],
         "hovertemplate": "<b>Correlation</b><br>(%{x},%{y})<br><br>Synthetic: %{z}<br>(vs. Real: %{customdata})<extra></extra>",
         "type": "heatmap",
         "x": [
          "Year of insertion",
          "Year of Recruitment"
         ],
         "xaxis": "x2",
         "y": [
          "Year of insertion",
          "Year of Recruitment"
         ],
         "yaxis": "y2",
         "z": [
          [
           1,
           0.716
          ],
          [
           0.716,
           1
          ]
         ]
        },
        {
         "coloraxis": "coloraxis2",
         "customdata": [
          [
           1,
           0.716
          ],
          [
           0.716,
           1
          ]
         ],
         "hovertemplate": "<b>Correlation</b><br>(%{x},%{y})<br><br>Synthetic: %{z}<br>(vs. Real: %{customdata})<extra></extra>",
         "type": "heatmap",
         "x": [
          "Year of insertion",
          "Year of Recruitment"
         ],
         "xaxis": "x3",
         "y": [
          "Year of insertion",
          "Year of Recruitment"
         ],
         "yaxis": "y3",
         "z": [
          [
           1,
           0.898
          ],
          [
           0.898,
           1
          ]
         ]
        }
       ],
       "layout": {
        "annotations": [
         {
          "font": {
           "size": 16
          },
          "showarrow": false,
          "text": "Real vs. Synthetic Similarity",
          "x": 0.5,
          "xanchor": "center",
          "xref": "paper",
          "y": 1,
          "yanchor": "bottom",
          "yref": "paper"
         },
         {
          "font": {
           "size": 16
          },
          "showarrow": false,
          "text": "Numerical Correlation (Real Data)",
          "x": 0.225,
          "xanchor": "center",
          "xref": "paper",
          "y": 0.375,
          "yanchor": "bottom",
          "yref": "paper"
         },
         {
          "font": {
           "size": 16
          },
          "showarrow": false,
          "text": "Numerical Correlation (Synthetic Data)",
          "x": 0.775,
          "xanchor": "center",
          "xref": "paper",
          "y": 0.375,
          "yanchor": "bottom",
          "yref": "paper"
         }
        ],
        "coloraxis": {
         "cmax": 1,
         "cmin": 0,
         "colorbar": {
          "len": 0.5,
          "x": 0.8,
          "y": 0.8
         },
         "colorscale": [
          [
           0,
           "#FF0000"
          ],
          [
           0.5,
           "#F16141"
          ],
          [
           1,
           "#36B37E"
          ]
         ]
        },
        "coloraxis2": {
         "cmax": 1,
         "cmin": -1,
         "colorbar": {
          "len": 0.5,
          "y": 0.2
         },
         "colorscale": [
          [
           0,
           "#03AFF1"
          ],
          [
           0.5,
           "#000036"
          ],
          [
           1,
           "#01E0C9"
          ]
         ]
        },
        "font": {
         "size": 18
        },
        "height": 900,
        "template": {
         "data": {
          "bar": [
           {
            "error_x": {
             "color": "#2a3f5f"
            },
            "error_y": {
             "color": "#2a3f5f"
            },
            "marker": {
             "line": {
              "color": "#E5ECF6",
              "width": 0.5
             },
             "pattern": {
              "fillmode": "overlay",
              "size": 10,
              "solidity": 0.2
             }
            },
            "type": "bar"
           }
          ],
          "barpolar": [
           {
            "marker": {
             "line": {
              "color": "#E5ECF6",
              "width": 0.5
             },
             "pattern": {
              "fillmode": "overlay",
              "size": 10,
              "solidity": 0.2
             }
            },
            "type": "barpolar"
           }
          ],
          "carpet": [
           {
            "aaxis": {
             "endlinecolor": "#2a3f5f",
             "gridcolor": "white",
             "linecolor": "white",
             "minorgridcolor": "white",
             "startlinecolor": "#2a3f5f"
            },
            "baxis": {
             "endlinecolor": "#2a3f5f",
             "gridcolor": "white",
             "linecolor": "white",
             "minorgridcolor": "white",
             "startlinecolor": "#2a3f5f"
            },
            "type": "carpet"
           }
          ],
          "choropleth": [
           {
            "colorbar": {
             "outlinewidth": 0,
             "ticks": ""
            },
            "type": "choropleth"
           }
          ],
          "contour": [
           {
            "colorbar": {
             "outlinewidth": 0,
             "ticks": ""
            },
            "colorscale": [
             [
              0,
              "#0d0887"
             ],
             [
              0.1111111111111111,
              "#46039f"
             ],
             [
              0.2222222222222222,
              "#7201a8"
             ],
             [
              0.3333333333333333,
              "#9c179e"
             ],
             [
              0.4444444444444444,
              "#bd3786"
             ],
             [
              0.5555555555555556,
              "#d8576b"
             ],
             [
              0.6666666666666666,
              "#ed7953"
             ],
             [
              0.7777777777777778,
              "#fb9f3a"
             ],
             [
              0.8888888888888888,
              "#fdca26"
             ],
             [
              1,
              "#f0f921"
             ]
            ],
            "type": "contour"
           }
          ],
          "contourcarpet": [
           {
            "colorbar": {
             "outlinewidth": 0,
             "ticks": ""
            },
            "type": "contourcarpet"
           }
          ],
          "heatmap": [
           {
            "colorbar": {
             "outlinewidth": 0,
             "ticks": ""
            },
            "colorscale": [
             [
              0,
              "#0d0887"
             ],
             [
              0.1111111111111111,
              "#46039f"
             ],
             [
              0.2222222222222222,
              "#7201a8"
             ],
             [
              0.3333333333333333,
              "#9c179e"
             ],
             [
              0.4444444444444444,
              "#bd3786"
             ],
             [
              0.5555555555555556,
              "#d8576b"
             ],
             [
              0.6666666666666666,
              "#ed7953"
             ],
             [
              0.7777777777777778,
              "#fb9f3a"
             ],
             [
              0.8888888888888888,
              "#fdca26"
             ],
             [
              1,
              "#f0f921"
             ]
            ],
            "type": "heatmap"
           }
          ],
          "heatmapgl": [
           {
            "colorbar": {
             "outlinewidth": 0,
             "ticks": ""
            },
            "colorscale": [
             [
              0,
              "#0d0887"
             ],
             [
              0.1111111111111111,
              "#46039f"
             ],
             [
              0.2222222222222222,
              "#7201a8"
             ],
             [
              0.3333333333333333,
              "#9c179e"
             ],
             [
              0.4444444444444444,
              "#bd3786"
             ],
             [
              0.5555555555555556,
              "#d8576b"
             ],
             [
              0.6666666666666666,
              "#ed7953"
             ],
             [
              0.7777777777777778,
              "#fb9f3a"
             ],
             [
              0.8888888888888888,
              "#fdca26"
             ],
             [
              1,
              "#f0f921"
             ]
            ],
            "type": "heatmapgl"
           }
          ],
          "histogram": [
           {
            "marker": {
             "pattern": {
              "fillmode": "overlay",
              "size": 10,
              "solidity": 0.2
             }
            },
            "type": "histogram"
           }
          ],
          "histogram2d": [
           {
            "colorbar": {
             "outlinewidth": 0,
             "ticks": ""
            },
            "colorscale": [
             [
              0,
              "#0d0887"
             ],
             [
              0.1111111111111111,
              "#46039f"
             ],
             [
              0.2222222222222222,
              "#7201a8"
             ],
             [
              0.3333333333333333,
              "#9c179e"
             ],
             [
              0.4444444444444444,
              "#bd3786"
             ],
             [
              0.5555555555555556,
              "#d8576b"
             ],
             [
              0.6666666666666666,
              "#ed7953"
             ],
             [
              0.7777777777777778,
              "#fb9f3a"
             ],
             [
              0.8888888888888888,
              "#fdca26"
             ],
             [
              1,
              "#f0f921"
             ]
            ],
            "type": "histogram2d"
           }
          ],
          "histogram2dcontour": [
           {
            "colorbar": {
             "outlinewidth": 0,
             "ticks": ""
            },
            "colorscale": [
             [
              0,
              "#0d0887"
             ],
             [
              0.1111111111111111,
              "#46039f"
             ],
             [
              0.2222222222222222,
              "#7201a8"
             ],
             [
              0.3333333333333333,
              "#9c179e"
             ],
             [
              0.4444444444444444,
              "#bd3786"
             ],
             [
              0.5555555555555556,
              "#d8576b"
             ],
             [
              0.6666666666666666,
              "#ed7953"
             ],
             [
              0.7777777777777778,
              "#fb9f3a"
             ],
             [
              0.8888888888888888,
              "#fdca26"
             ],
             [
              1,
              "#f0f921"
             ]
            ],
            "type": "histogram2dcontour"
           }
          ],
          "mesh3d": [
           {
            "colorbar": {
             "outlinewidth": 0,
             "ticks": ""
            },
            "type": "mesh3d"
           }
          ],
          "parcoords": [
           {
            "line": {
             "colorbar": {
              "outlinewidth": 0,
              "ticks": ""
             }
            },
            "type": "parcoords"
           }
          ],
          "pie": [
           {
            "automargin": true,
            "type": "pie"
           }
          ],
          "scatter": [
           {
            "fillpattern": {
             "fillmode": "overlay",
             "size": 10,
             "solidity": 0.2
            },
            "type": "scatter"
           }
          ],
          "scatter3d": [
           {
            "line": {
             "colorbar": {
              "outlinewidth": 0,
              "ticks": ""
             }
            },
            "marker": {
             "colorbar": {
              "outlinewidth": 0,
              "ticks": ""
             }
            },
            "type": "scatter3d"
           }
          ],
          "scattercarpet": [
           {
            "marker": {
             "colorbar": {
              "outlinewidth": 0,
              "ticks": ""
             }
            },
            "type": "scattercarpet"
           }
          ],
          "scattergeo": [
           {
            "marker": {
             "colorbar": {
              "outlinewidth": 0,
              "ticks": ""
             }
            },
            "type": "scattergeo"
           }
          ],
          "scattergl": [
           {
            "marker": {
             "colorbar": {
              "outlinewidth": 0,
              "ticks": ""
             }
            },
            "type": "scattergl"
           }
          ],
          "scattermapbox": [
           {
            "marker": {
             "colorbar": {
              "outlinewidth": 0,
              "ticks": ""
             }
            },
            "type": "scattermapbox"
           }
          ],
          "scatterpolar": [
           {
            "marker": {
             "colorbar": {
              "outlinewidth": 0,
              "ticks": ""
             }
            },
            "type": "scatterpolar"
           }
          ],
          "scatterpolargl": [
           {
            "marker": {
             "colorbar": {
              "outlinewidth": 0,
              "ticks": ""
             }
            },
            "type": "scatterpolargl"
           }
          ],
          "scatterternary": [
           {
            "marker": {
             "colorbar": {
              "outlinewidth": 0,
              "ticks": ""
             }
            },
            "type": "scatterternary"
           }
          ],
          "surface": [
           {
            "colorbar": {
             "outlinewidth": 0,
             "ticks": ""
            },
            "colorscale": [
             [
              0,
              "#0d0887"
             ],
             [
              0.1111111111111111,
              "#46039f"
             ],
             [
              0.2222222222222222,
              "#7201a8"
             ],
             [
              0.3333333333333333,
              "#9c179e"
             ],
             [
              0.4444444444444444,
              "#bd3786"
             ],
             [
              0.5555555555555556,
              "#d8576b"
             ],
             [
              0.6666666666666666,
              "#ed7953"
             ],
             [
              0.7777777777777778,
              "#fb9f3a"
             ],
             [
              0.8888888888888888,
              "#fdca26"
             ],
             [
              1,
              "#f0f921"
             ]
            ],
            "type": "surface"
           }
          ],
          "table": [
           {
            "cells": {
             "fill": {
              "color": "#EBF0F8"
             },
             "line": {
              "color": "white"
             }
            },
            "header": {
             "fill": {
              "color": "#C8D4E3"
             },
             "line": {
              "color": "white"
             }
            },
            "type": "table"
           }
          ]
         },
         "layout": {
          "annotationdefaults": {
           "arrowcolor": "#2a3f5f",
           "arrowhead": 0,
           "arrowwidth": 1
          },
          "autotypenumbers": "strict",
          "coloraxis": {
           "colorbar": {
            "outlinewidth": 0,
            "ticks": ""
           }
          },
          "colorscale": {
           "diverging": [
            [
             0,
             "#8e0152"
            ],
            [
             0.1,
             "#c51b7d"
            ],
            [
             0.2,
             "#de77ae"
            ],
            [
             0.3,
             "#f1b6da"
            ],
            [
             0.4,
             "#fde0ef"
            ],
            [
             0.5,
             "#f7f7f7"
            ],
            [
             0.6,
             "#e6f5d0"
            ],
            [
             0.7,
             "#b8e186"
            ],
            [
             0.8,
             "#7fbc41"
            ],
            [
             0.9,
             "#4d9221"
            ],
            [
             1,
             "#276419"
            ]
           ],
           "sequential": [
            [
             0,
             "#0d0887"
            ],
            [
             0.1111111111111111,
             "#46039f"
            ],
            [
             0.2222222222222222,
             "#7201a8"
            ],
            [
             0.3333333333333333,
             "#9c179e"
            ],
            [
             0.4444444444444444,
             "#bd3786"
            ],
            [
             0.5555555555555556,
             "#d8576b"
            ],
            [
             0.6666666666666666,
             "#ed7953"
            ],
            [
             0.7777777777777778,
             "#fb9f3a"
            ],
            [
             0.8888888888888888,
             "#fdca26"
            ],
            [
             1,
             "#f0f921"
            ]
           ],
           "sequentialminus": [
            [
             0,
             "#0d0887"
            ],
            [
             0.1111111111111111,
             "#46039f"
            ],
            [
             0.2222222222222222,
             "#7201a8"
            ],
            [
             0.3333333333333333,
             "#9c179e"
            ],
            [
             0.4444444444444444,
             "#bd3786"
            ],
            [
             0.5555555555555556,
             "#d8576b"
            ],
            [
             0.6666666666666666,
             "#ed7953"
            ],
            [
             0.7777777777777778,
             "#fb9f3a"
            ],
            [
             0.8888888888888888,
             "#fdca26"
            ],
            [
             1,
             "#f0f921"
            ]
           ]
          },
          "colorway": [
           "#636efa",
           "#EF553B",
           "#00cc96",
           "#ab63fa",
           "#FFA15A",
           "#19d3f3",
           "#FF6692",
           "#B6E880",
           "#FF97FF",
           "#FECB52"
          ],
          "font": {
           "color": "#2a3f5f"
          },
          "geo": {
           "bgcolor": "white",
           "lakecolor": "white",
           "landcolor": "#E5ECF6",
           "showlakes": true,
           "showland": true,
           "subunitcolor": "white"
          },
          "hoverlabel": {
           "align": "left"
          },
          "hovermode": "closest",
          "mapbox": {
           "style": "light"
          },
          "paper_bgcolor": "white",
          "plot_bgcolor": "#E5ECF6",
          "polar": {
           "angularaxis": {
            "gridcolor": "white",
            "linecolor": "white",
            "ticks": ""
           },
           "bgcolor": "#E5ECF6",
           "radialaxis": {
            "gridcolor": "white",
            "linecolor": "white",
            "ticks": ""
           }
          },
          "scene": {
           "xaxis": {
            "backgroundcolor": "#E5ECF6",
            "gridcolor": "white",
            "gridwidth": 2,
            "linecolor": "white",
            "showbackground": true,
            "ticks": "",
            "zerolinecolor": "white"
           },
           "yaxis": {
            "backgroundcolor": "#E5ECF6",
            "gridcolor": "white",
            "gridwidth": 2,
            "linecolor": "white",
            "showbackground": true,
            "ticks": "",
            "zerolinecolor": "white"
           },
           "zaxis": {
            "backgroundcolor": "#E5ECF6",
            "gridcolor": "white",
            "gridwidth": 2,
            "linecolor": "white",
            "showbackground": true,
            "ticks": "",
            "zerolinecolor": "white"
           }
          },
          "shapedefaults": {
           "line": {
            "color": "#2a3f5f"
           }
          },
          "ternary": {
           "aaxis": {
            "gridcolor": "white",
            "linecolor": "white",
            "ticks": ""
           },
           "baxis": {
            "gridcolor": "white",
            "linecolor": "white",
            "ticks": ""
           },
           "bgcolor": "#E5ECF6",
           "caxis": {
            "gridcolor": "white",
            "linecolor": "white",
            "ticks": ""
           }
          },
          "title": {
           "x": 0.05
          },
          "xaxis": {
           "automargin": true,
           "gridcolor": "white",
           "linecolor": "white",
           "ticks": "",
           "title": {
            "standoff": 15
           },
           "zerolinecolor": "white",
           "zerolinewidth": 2
          },
          "yaxis": {
           "automargin": true,
           "gridcolor": "white",
           "linecolor": "white",
           "ticks": "",
           "title": {
            "standoff": 15
           },
           "zerolinecolor": "white",
           "zerolinewidth": 2
          }
         }
        },
        "title": {
         "text": "Data Quality: Column Pair Trends (Average Score=0.93)"
        },
        "width": 900,
        "xaxis": {
         "anchor": "y",
         "domain": [
          0.26,
          0.74
         ],
         "tickangle": 45
        },
        "xaxis2": {
         "anchor": "y2",
         "domain": [
          0,
          0.45
         ],
         "tickangle": 45
        },
        "xaxis3": {
         "anchor": "y3",
         "domain": [
          0.55,
          1
         ],
         "matches": "x2",
         "tickangle": 45
        },
        "yaxis": {
         "anchor": "x",
         "autorange": "reversed",
         "domain": [
          0.625,
          1
         ]
        },
        "yaxis2": {
         "anchor": "x2",
         "autorange": "reversed",
         "domain": [
          0,
          0.375
         ]
        },
        "yaxis3": {
         "anchor": "x3",
         "autorange": "reversed",
         "domain": [
          0,
          0.375
         ],
         "matches": "y2",
         "visible": false
        }
       }
      }
     },
     "metadata": {},
     "output_type": "display_data"
    },
    {
     "data": {
      "text/html": [
       "<div>\n",
       "<style scoped>\n",
       "    .dataframe tbody tr th:only-of-type {\n",
       "        vertical-align: middle;\n",
       "    }\n",
       "\n",
       "    .dataframe tbody tr th {\n",
       "        vertical-align: top;\n",
       "    }\n",
       "\n",
       "    .dataframe thead th {\n",
       "        text-align: right;\n",
       "    }\n",
       "</style>\n",
       "<table border=\"1\" class=\"dataframe\">\n",
       "  <thead>\n",
       "    <tr style=\"text-align: right;\">\n",
       "      <th></th>\n",
       "      <th>Column 1</th>\n",
       "      <th>Column 2</th>\n",
       "      <th>Metric</th>\n",
       "      <th>Score</th>\n",
       "      <th>Real Correlation</th>\n",
       "      <th>Synthetic Correlation</th>\n",
       "    </tr>\n",
       "  </thead>\n",
       "  <tbody>\n",
       "    <tr>\n",
       "      <th>0</th>\n",
       "      <td>Candidate State</td>\n",
       "      <td>Age Range</td>\n",
       "      <td>ContingencySimilarity</td>\n",
       "      <td>0.784170</td>\n",
       "      <td>NaN</td>\n",
       "      <td>NaN</td>\n",
       "    </tr>\n",
       "    <tr>\n",
       "      <th>1</th>\n",
       "      <td>Candidate State</td>\n",
       "      <td>Sex</td>\n",
       "      <td>ContingencySimilarity</td>\n",
       "      <td>0.960738</td>\n",
       "      <td>NaN</td>\n",
       "      <td>NaN</td>\n",
       "    </tr>\n",
       "    <tr>\n",
       "      <th>2</th>\n",
       "      <td>Candidate State</td>\n",
       "      <td>Protected category</td>\n",
       "      <td>ContingencySimilarity</td>\n",
       "      <td>0.959366</td>\n",
       "      <td>NaN</td>\n",
       "      <td>NaN</td>\n",
       "    </tr>\n",
       "    <tr>\n",
       "      <th>3</th>\n",
       "      <td>Candidate State</td>\n",
       "      <td>Study area</td>\n",
       "      <td>ContingencySimilarity</td>\n",
       "      <td>0.789141</td>\n",
       "      <td>NaN</td>\n",
       "      <td>NaN</td>\n",
       "    </tr>\n",
       "    <tr>\n",
       "      <th>4</th>\n",
       "      <td>Candidate State</td>\n",
       "      <td>Study Title</td>\n",
       "      <td>ContingencySimilarity</td>\n",
       "      <td>0.850466</td>\n",
       "      <td>NaN</td>\n",
       "      <td>NaN</td>\n",
       "    </tr>\n",
       "    <tr>\n",
       "      <th>...</th>\n",
       "      <td>...</td>\n",
       "      <td>...</td>\n",
       "      <td>...</td>\n",
       "      <td>...</td>\n",
       "      <td>...</td>\n",
       "      <td>...</td>\n",
       "    </tr>\n",
       "    <tr>\n",
       "      <th>226</th>\n",
       "      <td>Akkodis headquarters</td>\n",
       "      <td>Expected Ral</td>\n",
       "      <td>ContingencySimilarity</td>\n",
       "      <td>0.972819</td>\n",
       "      <td>NaN</td>\n",
       "      <td>NaN</td>\n",
       "    </tr>\n",
       "    <tr>\n",
       "      <th>227</th>\n",
       "      <td>Akkodis headquarters</td>\n",
       "      <td>Region</td>\n",
       "      <td>ContingencySimilarity</td>\n",
       "      <td>0.944619</td>\n",
       "      <td>NaN</td>\n",
       "      <td>NaN</td>\n",
       "    </tr>\n",
       "    <tr>\n",
       "      <th>228</th>\n",
       "      <td>Current Ral</td>\n",
       "      <td>Expected Ral</td>\n",
       "      <td>ContingencySimilarity</td>\n",
       "      <td>0.903425</td>\n",
       "      <td>NaN</td>\n",
       "      <td>NaN</td>\n",
       "    </tr>\n",
       "    <tr>\n",
       "      <th>229</th>\n",
       "      <td>Current Ral</td>\n",
       "      <td>Region</td>\n",
       "      <td>ContingencySimilarity</td>\n",
       "      <td>0.913190</td>\n",
       "      <td>NaN</td>\n",
       "      <td>NaN</td>\n",
       "    </tr>\n",
       "    <tr>\n",
       "      <th>230</th>\n",
       "      <td>Expected Ral</td>\n",
       "      <td>Region</td>\n",
       "      <td>ContingencySimilarity</td>\n",
       "      <td>0.912532</td>\n",
       "      <td>NaN</td>\n",
       "      <td>NaN</td>\n",
       "    </tr>\n",
       "  </tbody>\n",
       "</table>\n",
       "<p>231 rows × 6 columns</p>\n",
       "</div>"
      ],
      "text/plain": [
       "                 Column 1            Column 2                 Metric  \\\n",
       "0         Candidate State           Age Range  ContingencySimilarity   \n",
       "1         Candidate State                 Sex  ContingencySimilarity   \n",
       "2         Candidate State  Protected category  ContingencySimilarity   \n",
       "3         Candidate State          Study area  ContingencySimilarity   \n",
       "4         Candidate State         Study Title  ContingencySimilarity   \n",
       "..                    ...                 ...                    ...   \n",
       "226  Akkodis headquarters        Expected Ral  ContingencySimilarity   \n",
       "227  Akkodis headquarters              Region  ContingencySimilarity   \n",
       "228           Current Ral        Expected Ral  ContingencySimilarity   \n",
       "229           Current Ral              Region  ContingencySimilarity   \n",
       "230          Expected Ral              Region  ContingencySimilarity   \n",
       "\n",
       "        Score  Real Correlation  Synthetic Correlation  \n",
       "0    0.784170               NaN                    NaN  \n",
       "1    0.960738               NaN                    NaN  \n",
       "2    0.959366               NaN                    NaN  \n",
       "3    0.789141               NaN                    NaN  \n",
       "4    0.850466               NaN                    NaN  \n",
       "..        ...               ...                    ...  \n",
       "226  0.972819               NaN                    NaN  \n",
       "227  0.944619               NaN                    NaN  \n",
       "228  0.903425               NaN                    NaN  \n",
       "229  0.913190               NaN                    NaN  \n",
       "230  0.912532               NaN                    NaN  \n",
       "\n",
       "[231 rows x 6 columns]"
      ]
     },
     "execution_count": 177,
     "metadata": {},
     "output_type": "execute_result"
    }
   ],
   "source": [
    "\n",
    "\n",
    "fig = quality_report.get_visualization(property_name='Column Pair Trends')\n",
    "fig.show()\n",
    "fig.write_html(os.path.join(mydir, 'column_pair_trends.html'))\n",
    "\n",
    "# quality_report.get_details(property_name='Column Shapes')\n",
    "quality_report.get_details(property_name='Column Pair Trends')\n"
   ]
  },
  {
   "cell_type": "markdown",
   "metadata": {},
   "source": [
    "# 4. Biased Sampling"
   ]
  },
  {
   "cell_type": "code",
   "execution_count": null,
   "metadata": {},
   "outputs": [
    {
     "data": {
      "text/html": [
       "<div>\n",
       "<style scoped>\n",
       "    .dataframe tbody tr th:only-of-type {\n",
       "        vertical-align: middle;\n",
       "    }\n",
       "\n",
       "    .dataframe tbody tr th {\n",
       "        vertical-align: top;\n",
       "    }\n",
       "\n",
       "    .dataframe thead th {\n",
       "        text-align: right;\n",
       "    }\n",
       "</style>\n",
       "<table border=\"1\" class=\"dataframe\">\n",
       "  <thead>\n",
       "    <tr style=\"text-align: right;\">\n",
       "      <th></th>\n",
       "      <th>Sex</th>\n",
       "    </tr>\n",
       "  </thead>\n",
       "  <tbody>\n",
       "    <tr>\n",
       "      <th>0</th>\n",
       "      <td>Male</td>\n",
       "    </tr>\n",
       "    <tr>\n",
       "      <th>1</th>\n",
       "      <td>Male</td>\n",
       "    </tr>\n",
       "    <tr>\n",
       "      <th>2</th>\n",
       "      <td>Male</td>\n",
       "    </tr>\n",
       "    <tr>\n",
       "      <th>3</th>\n",
       "      <td>Male</td>\n",
       "    </tr>\n",
       "    <tr>\n",
       "      <th>4</th>\n",
       "      <td>Male</td>\n",
       "    </tr>\n",
       "    <tr>\n",
       "      <th>...</th>\n",
       "      <td>...</td>\n",
       "    </tr>\n",
       "    <tr>\n",
       "      <th>95</th>\n",
       "      <td>Female</td>\n",
       "    </tr>\n",
       "    <tr>\n",
       "      <th>96</th>\n",
       "      <td>Female</td>\n",
       "    </tr>\n",
       "    <tr>\n",
       "      <th>97</th>\n",
       "      <td>Female</td>\n",
       "    </tr>\n",
       "    <tr>\n",
       "      <th>98</th>\n",
       "      <td>Female</td>\n",
       "    </tr>\n",
       "    <tr>\n",
       "      <th>99</th>\n",
       "      <td>Female</td>\n",
       "    </tr>\n",
       "  </tbody>\n",
       "</table>\n",
       "<p>100 rows × 1 columns</p>\n",
       "</div>"
      ],
      "text/plain": [
       "       Sex\n",
       "0     Male\n",
       "1     Male\n",
       "2     Male\n",
       "3     Male\n",
       "4     Male\n",
       "..     ...\n",
       "95  Female\n",
       "96  Female\n",
       "97  Female\n",
       "98  Female\n",
       "99  Female\n",
       "\n",
       "[100 rows x 1 columns]"
      ]
     },
     "execution_count": 84,
     "metadata": {},
     "output_type": "execute_result"
    }
   ],
   "source": []
  }
 ],
 "metadata": {
  "colab": {
   "provenance": []
  },
  "kernelspec": {
   "display_name": "industryproject",
   "language": "python",
   "name": "python3"
  },
  "language_info": {
   "codemirror_mode": {
    "name": "ipython",
    "version": 3
   },
   "file_extension": ".py",
   "mimetype": "text/x-python",
   "name": "python",
   "nbconvert_exporter": "python",
   "pygments_lexer": "ipython3",
   "version": "3.11.10"
  }
 },
 "nbformat": 4,
 "nbformat_minor": 0
}
